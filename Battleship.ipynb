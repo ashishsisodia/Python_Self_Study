{
 "cells": [
  {
   "cell_type": "code",
   "execution_count": 5,
   "metadata": {},
   "outputs": [
    {
     "name": "stdout",
     "output_type": "stream",
     "text": [
      "O O O O O\n",
      "O O O O O\n",
      "O O O O O\n",
      "O O O O O\n",
      "O O O O O\n",
      "4\n",
      "0\n",
      "Turn:  1\n",
      "Guess Row: 1\n",
      "Guess Col: 2\n",
      "You missed my battleship!\n",
      "O O O O O\n",
      "O O X O O\n",
      "O O O O O\n",
      "O O O O O\n",
      "O O O O O\n",
      "Turn:  2\n",
      "Guess Row: 1\n",
      "Guess Col: 3\n",
      "You missed my battleship!\n",
      "O O O O O\n",
      "O O X X O\n",
      "O O O O O\n",
      "O O O O O\n",
      "O O O O O\n",
      "Turn:  3\n",
      "Guess Row: 1\n",
      "Guess Col: 4\n",
      "You missed my battleship!\n",
      "O O O O O\n",
      "O O X X X\n",
      "O O O O O\n",
      "O O O O O\n",
      "O O O O O\n",
      "Turn:  4\n",
      "Guess Row: 1\n",
      "Guess Col: 5\n",
      "Oops, that's not even in the ocean.\n",
      "Game Over\n"
     ]
    }
   ],
   "source": [
    "from random import randint \n",
    "\n",
    "board = []\n",
    "\n",
    "for i in range(5):\n",
    "  board.append(([\"O\"] * 5))\n",
    "  \n",
    "def print_board(board_in):\n",
    "  for i in range(len(board_in)):\n",
    "    print (\" \".join(board_in[i]))\n",
    "print_board(board)\n",
    "def random_row(board_in):\n",
    "  return randint(0, len(board_in) - 1)\n",
    "def random_col(board_in):\n",
    "  return randint(0, len(board_in) - 1)\n",
    "ship_row = random_row(board)\n",
    "ship_col = random_col(board)\n",
    "\n",
    "print (ship_row)\n",
    "print (ship_col)\n",
    "\n",
    "for turn in range(4):\n",
    "    print (\"Turn: \", turn + 1)\n",
    "    guess_row = int(input(\"Guess Row: \"))\n",
    "    guess_col = int(input(\"Guess Col: \"))\n",
    "    if guess_row == ship_row and guess_col == ship_col:\n",
    "        print (\"Congratulations! You sank my battleship!\")\n",
    "        break\n",
    "    elif guess_row not in range(5) or guess_col not in   range(5):\n",
    "        print (\"Oops, that's not even in the ocean.\")\n",
    "        if turn == 3:\n",
    "            print (\"Game Over\")\n",
    "    elif board[guess_row][guess_col] == \"X\":\n",
    "        print (\"You guessed that one already.\")\n",
    "        if turn == 3:\n",
    "            print (\"Game Over\")\n",
    "    else:\n",
    "        print (\"You missed my battleship!\")\n",
    "        board[guess_row][guess_col] = \"X\"\n",
    "        print_board(board)\n",
    "        if turn == 3:\n",
    "            print (\"Game Over\")"
   ]
  },
  {
   "cell_type": "code",
   "execution_count": null,
   "metadata": {
    "collapsed": true
   },
   "outputs": [],
   "source": []
  }
 ],
 "metadata": {
  "kernelspec": {
   "display_name": "Python 3",
   "language": "python",
   "name": "python3"
  },
  "language_info": {
   "codemirror_mode": {
    "name": "ipython",
    "version": 3
   },
   "file_extension": ".py",
   "mimetype": "text/x-python",
   "name": "python",
   "nbconvert_exporter": "python",
   "pygments_lexer": "ipython3",
   "version": "3.6.3"
  }
 },
 "nbformat": 4,
 "nbformat_minor": 2
}
