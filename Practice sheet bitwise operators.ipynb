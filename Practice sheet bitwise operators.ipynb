{
 "cells": [
  {
   "cell_type": "code",
   "execution_count": 2,
   "metadata": {},
   "outputs": [
    {
     "name": "stdout",
     "output_type": "stream",
     "text": [
      "0\n",
      "10\n",
      "0\n",
      "13\n",
      "38\n",
      "-89\n"
     ]
    }
   ],
   "source": [
    "print (5 >> 4)  # Right Shift\n",
    "print (5 << 1)  # Left Shift\n",
    "print (8 & 5)   # Bitwise AND\n",
    "print (9 | 4)   # Bitwise OR\n",
    "print (12 ^ 42) # Bitwise XOR\n",
    "print (~88)     # Bitwise NOT"
   ]
  },
  {
   "cell_type": "code",
   "execution_count": 3,
   "metadata": {},
   "outputs": [
    {
     "name": "stdout",
     "output_type": "stream",
     "text": [
      "1\n",
      "2\n",
      "3\n",
      "4\n",
      "5\n",
      "6\n",
      "7\n",
      "******\n",
      "4\n",
      "9\n"
     ]
    }
   ],
   "source": [
    "print (0b1),    #1\n",
    "print (0b10),   #2\n",
    "print (0b11),   #3\n",
    "print (0b100),  #4\n",
    "print (0b101),  #5\n",
    "print (0b110),  #6\n",
    "print (0b111)   #7\n",
    "print (\"******\")\n",
    "print (0b1 + 0b11)\n",
    "print (0b11 * 0b11)\n"
   ]
  },
  {
   "cell_type": "code",
   "execution_count": 4,
   "metadata": {},
   "outputs": [
    {
     "name": "stdout",
     "output_type": "stream",
     "text": [
      "0b1\n",
      "0o12\n",
      "0x12\n"
     ]
    }
   ],
   "source": [
    "print (bin(1))\n",
    "print (oct(10))\n",
    "print (hex(18))\n"
   ]
  },
  {
   "cell_type": "code",
   "execution_count": 24,
   "metadata": {},
   "outputs": [
    {
     "name": "stdout",
     "output_type": "stream",
     "text": [
      "1\n",
      "2\n",
      "7\n",
      "4\n",
      "5\n",
      "285256449\n"
     ]
    }
   ],
   "source": [
    "print (int(\"1\",2))\n",
    "print (int(\"10\", 2))\n",
    "print (int(\"111\", 2))\n",
    "print (int(\"0b100\", 2))\n",
    "print (int(bin(5), 2))\n",
    "# Print out the decimal equivalent of the binary 11001001.\n",
    "print (int(\"1100AB01\",16))"
   ]
  },
  {
   "cell_type": "code",
   "execution_count": 29,
   "metadata": {},
   "outputs": [
    {
     "name": "stdout",
     "output_type": "stream",
     "text": [
      "12\n",
      "1\n",
      "0b11\n",
      "0b100\n",
      "3\n",
      "4\n"
     ]
    }
   ],
   "source": [
    "shift_right = 0b1100\n",
    "shift_left = 0b1\n",
    "print (int(bin(shift_right), 2))\n",
    "print (int(bin(shift_left), 2))\n",
    "# Your code here!\n",
    "shift_right = shift_right >> 2\n",
    "shift_left = shift_left << 2\n",
    "print (bin(shift_right))\n",
    "print (bin(shift_left))\n",
    "print (int(bin(shift_right), 2))\n",
    "print (int(bin(shift_left), 2))"
   ]
  },
  {
   "cell_type": "code",
   "execution_count": 32,
   "metadata": {},
   "outputs": [
    {
     "name": "stdout",
     "output_type": "stream",
     "text": [
      "0b100\n",
      "14\n",
      "5\n",
      "4\n"
     ]
    }
   ],
   "source": [
    "print (bin(0b1110 & 0b101))\n",
    "print (int(bin(0b1110), 2))\n",
    "print (int(bin(0b101), 2))\n",
    "print (int(bin(0b1110 & 0b101), 2))"
   ]
  },
  {
   "cell_type": "code",
   "execution_count": 35,
   "metadata": {},
   "outputs": [
    {
     "name": "stdout",
     "output_type": "stream",
     "text": [
      "0b1110\n",
      "14\n",
      "0b101\n",
      "5\n",
      "0b1011\n",
      "11\n"
     ]
    }
   ],
   "source": [
    "print (bin(0b1110))\n",
    "print (int(bin(0b1110),2))\n",
    "print (bin(0b101))\n",
    "print (int(bin(0b101),2))\n",
    "print (bin(0b1110 ^ 0b101))\n",
    "print (int(bin(0b1110 ^ 0b101),2))"
   ]
  },
  {
   "cell_type": "code",
   "execution_count": 36,
   "metadata": {},
   "outputs": [
    {
     "name": "stdout",
     "output_type": "stream",
     "text": [
      "on\n"
     ]
    }
   ],
   "source": [
    "def check_bit4(input):\n",
    "  mask = 0b1000\n",
    "  if (input & mask) > 0:\n",
    "    return \"on\"\n",
    "  else:\n",
    "    return \"off\"\n",
    "input = 0b01001\n",
    "print(check_bit4(input))"
   ]
  },
  {
   "cell_type": "code",
   "execution_count": 37,
   "metadata": {},
   "outputs": [
    {
     "name": "stdout",
     "output_type": "stream",
     "text": [
      "0b10001\n"
     ]
    }
   ],
   "source": [
    "a = 0b11101110\n",
    "mask = 0b11111111\n",
    "print (bin(a ^ mask))"
   ]
  },
  {
   "cell_type": "code",
   "execution_count": 38,
   "metadata": {},
   "outputs": [
    {
     "name": "stdout",
     "output_type": "stream",
     "text": [
      "0b111101\n"
     ]
    }
   ],
   "source": [
    "def flip_bit(number, n):\n",
    "  mask = (0b1 << (n - 1))\n",
    "  return bin(number ^ mask)\n",
    "\n",
    "num = 0b110101\n",
    "n = 4\n",
    "print (flip_bit(num,n))"
   ]
  },
  {
   "cell_type": "code",
   "execution_count": 39,
   "metadata": {},
   "outputs": [
    {
     "name": "stdout",
     "output_type": "stream",
     "text": [
      "I'm a yellow lemon and I taste sour.\n",
      "Yep! I'm edible.\n"
     ]
    }
   ],
   "source": [
    "class Fruit(object):\n",
    "    \"\"\"A class that makes various tasty fruits.\"\"\"\n",
    "    def __init__(self, name, color, flavor, poisonous):\n",
    "        self.name = name\n",
    "        self.color = color\n",
    "        self.flavor = flavor\n",
    "        self.poisonous = poisonous\n",
    "        \n",
    "    def description(self):\n",
    "        print (\"I'm a %s %s and I taste %s.\" % (self.color, self.name, self.flavor))\n",
    "\n",
    "    def is_edible(self):\n",
    "        if not self.poisonous:\n",
    "            print (\"Yep! I'm edible.\")\n",
    "        else:\n",
    "            print (\"Don't eat me! I am super poisonous.\")\n",
    "\n",
    "lemon = Fruit(\"lemon\", \"yellow\", \"sour\", False)\n",
    "\n",
    "lemon.description()\n",
    "lemon.is_edible()\n"
   ]
  },
  {
   "cell_type": "code",
   "execution_count": null,
   "metadata": {
    "collapsed": true
   },
   "outputs": [],
   "source": []
  }
 ],
 "metadata": {
  "kernelspec": {
   "display_name": "Python 3",
   "language": "python",
   "name": "python3"
  },
  "language_info": {
   "codemirror_mode": {
    "name": "ipython",
    "version": 3
   },
   "file_extension": ".py",
   "mimetype": "text/x-python",
   "name": "python",
   "nbconvert_exporter": "python",
   "pygments_lexer": "ipython3",
   "version": "3.6.3"
  }
 },
 "nbformat": 4,
 "nbformat_minor": 2
}
