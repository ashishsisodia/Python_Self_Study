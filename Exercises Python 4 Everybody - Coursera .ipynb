{
 "cells": [
  {
   "cell_type": "markdown",
   "metadata": {},
   "source": [
    "##### Chapter 2 Variables, expressions and statements"
   ]
  },
  {
   "cell_type": "code",
   "execution_count": null,
   "metadata": {},
   "outputs": [],
   "source": [
    "'''\n",
    "Exercise 1\n",
    "Type the following statements in the Python interpreter to see what\n",
    "they do.\n",
    "'''\n",
    "5\n",
    "x = 5\n",
    "x + 1"
   ]
  },
  {
   "cell_type": "code",
   "execution_count": null,
   "metadata": {},
   "outputs": [],
   "source": [
    "'''\n",
    "Exercise 2\n",
    "Write a program that uses input to prompt a user for their name and\n",
    "then welcomes them.\n",
    "'''\n",
    "name = input(\"Enter your name: \")\n",
    "print (\"Hello\", name)"
   ]
  },
  {
   "cell_type": "code",
   "execution_count": null,
   "metadata": {},
   "outputs": [],
   "source": [
    "'''\n",
    "Exercise 3\n",
    "Write a program to prompt the user for hours and rate per hour to\n",
    "compute gross pay.\n",
    "'''\n",
    "hrs = input(\"Enter Hours: \")\n",
    "rate = input(\"Enter Rate: \")\n",
    "pay = float(hrs) * float(rate)\n",
    "print (pay)"
   ]
  },
  {
   "cell_type": "code",
   "execution_count": null,
   "metadata": {
    "collapsed": true
   },
   "outputs": [],
   "source": [
    "'''\n",
    "Exercise 4\n",
    "Assume that we execute the following assignment statements:\n",
    "width = 17\n",
    "height = 12.0\n",
    "'''\n",
    "width = 17\n",
    "height = 13.0\n",
    "print(width//2)\n",
    "print(width//2.0)\n",
    "print(width/2)\n",
    "print(width/2.0)\n",
    "print(width%2.0)\n",
    "print(width%2)\n",
    "print(height//2)\n",
    "print(height//2.0)\n",
    "print(height/2)\n",
    "print(height/2.0)\n",
    "print(height%2)\n",
    "print(height%2.0)"
   ]
  },
  {
   "cell_type": "code",
   "execution_count": null,
   "metadata": {},
   "outputs": [],
   "source": [
    "'''\n",
    "Exercise 5\n",
    "Write a program which prompts the user for a Celsius temperature,\n",
    "convert the temperature to Fahrenheit, and print out the converted temperature.\n",
    "'''\n",
    "temp_c = input(\"Temp in Celsius: \")\n",
    "temp_f = float(temp_c) * 1.8 + 32\n",
    "print (\"Temp in Fahrenheit is\", temp_f)"
   ]
  },
  {
   "cell_type": "markdown",
   "metadata": {},
   "source": [
    "##### Chapter 3 Conditional Execution"
   ]
  },
  {
   "cell_type": "code",
   "execution_count": null,
   "metadata": {
    "collapsed": true
   },
   "outputs": [],
   "source": [
    "'''\n",
    "Exercise 1\n",
    "Rewrite your pay computation to give the employee 1.5 times the\n",
    "hourly rate for hours worked above 40 hours.\n",
    "Exercise 2\n",
    "Rewrite your pay program using try and except so that your program\n",
    "handles non-numeric input gracefully by printing a message and exiting the\n",
    "program.\n",
    "'''\n",
    "#Exercise 1, 2\n",
    "try:\n",
    "    hrs = float(input(\"Enter Hours: \"))\n",
    "    rate = float(input(\"Enter Rate: \"))\n",
    "    if hrs <= 40:\n",
    "        pay = hrs * rate\n",
    "    else:\n",
    "        pay = ((hrs -40) * rate * 1.5) + (40 * rate)\n",
    "    print (pay)\n",
    "except:\n",
    "    print(\"Please enter numeric input\")\n",
    "    "
   ]
  },
  {
   "cell_type": "code",
   "execution_count": null,
   "metadata": {
    "collapsed": true
   },
   "outputs": [],
   "source": [
    "'''\n",
    "Exercise 3: Write a program to prompt for a score between 0.0 and 1.0. If the\n",
    "score is out of range, print an error message. If the score is between 0.0 and 1.0,\n",
    "print a grade using the following table:\n",
    "Score Grade\n",
    ">= 0.9 A\n",
    ">= 0.8 B\n",
    ">= 0.7 C\n",
    ">= 0.6\n",
    "'''\n",
    "try:\n",
    "    score = float(input(\"Enter a score between 0.0 and 1.0: \"))\n",
    "    if score > 1.0 or score < 0.0:\n",
    "        print(\"Bad Score\")\n",
    "    elif score >= 0.9:\n",
    "        print(\"A\")\n",
    "    elif score >= 0.8:\n",
    "        print (\"B\")\n",
    "    elif score >= 0.7:\n",
    "        print(\"C\")\n",
    "    elif score >= 0.6:\n",
    "        print(\"D\")\n",
    "    else:\n",
    "        print(\"F\")\n",
    "except:\n",
    "    print(\"Bad Score\")"
   ]
  },
  {
   "cell_type": "markdown",
   "metadata": {},
   "source": [
    "##### Chapter 4 Functions"
   ]
  },
  {
   "cell_type": "code",
   "execution_count": 11,
   "metadata": {},
   "outputs": [
    {
     "name": "stdout",
     "output_type": "stream",
     "text": [
      "0.3116336886850275\n",
      "0.13036319369607485\n",
      "0.8730826179353549\n",
      "0.4230575929209537\n",
      "0.1625720808999691\n",
      "0.05208348104637062\n",
      "0.24486139177080946\n",
      "0.44495827250160047\n",
      "0.2554760457704478\n",
      "0.37854953439383665\n"
     ]
    }
   ],
   "source": [
    "#Practice 1\n",
    "import random\n",
    "for i in range(10):\n",
    "    x = random.random()\n",
    "    print(x)"
   ]
  },
  {
   "cell_type": "code",
   "execution_count": 19,
   "metadata": {},
   "outputs": [
    {
     "data": {
      "text/plain": [
       "5"
      ]
     },
     "execution_count": 19,
     "metadata": {},
     "output_type": "execute_result"
    }
   ],
   "source": [
    "'''\n",
    "Exercise 1: Run the program on your system and see what numbers you get. Run\n",
    "the program more than once and see what numbers you get.\n",
    "'''\n",
    "random.randint(5, 10)"
   ]
  },
  {
   "cell_type": "code",
   "execution_count": 22,
   "metadata": {},
   "outputs": [
    {
     "data": {
      "text/plain": [
       "4"
      ]
     },
     "execution_count": 22,
     "metadata": {},
     "output_type": "execute_result"
    }
   ],
   "source": [
    "#Practice 2\n",
    "t = [1,2,3,4,5]\n",
    "random.choice(t)\n",
    "\n",
    "'''\n",
    "The random module also provides functions to generate random values from continuous\n",
    "distributions including Gaussian, exponential, gamma, and a few more.\n",
    "'''"
   ]
  },
  {
   "cell_type": "code",
   "execution_count": 28,
   "metadata": {},
   "outputs": [
    {
     "name": "stdout",
     "output_type": "stream",
     "text": [
      "0.3222192947339193\n",
      "0.644217687237691\n",
      "3.141592653589793\n",
      "4.898979485566356\n",
      "<module 'math' (built-in)>\n"
     ]
    }
   ],
   "source": [
    "#Practice 3\n",
    "import math\n",
    "i = math.log10(2.1) \n",
    "print (i)\n",
    "\n",
    "radians = 0.7\n",
    "height = math.sin(radians)\n",
    "print (height)\n",
    "\n",
    "i = math.pi\n",
    "print (i)\n",
    "j = math.sqrt(24)\n",
    "print (j)\n",
    "print(math)"
   ]
  },
  {
   "cell_type": "code",
   "execution_count": 30,
   "metadata": {},
   "outputs": [
    {
     "name": "stdout",
     "output_type": "stream",
     "text": [
      "I'm a lumberjack, and I'm okay.\n",
      "I sleep all night and I work all day.\n",
      "I'm a lumberjack, and I'm okay.\n",
      "I sleep all night and I work all day.\n"
     ]
    }
   ],
   "source": [
    "'''\n",
    "Exercise 2: Move the last line of this program to the top, so the function call\n",
    "appears before the definitions. Run the program and see what error message you\n",
    "get.\n",
    "Exercise 3: Move the function call back to the bottom and move the definition of\n",
    "print_lyrics after the definition of repeat_lyrics.\n",
    "'''\n",
    "def repeat_lyrics():\n",
    "    print_lyrics()\n",
    "    print_lyrics()\n",
    "    \n",
    "def print_lyrics():\n",
    "    print(\"I'm a lumberjack, and I'm okay.\")\n",
    "    print('I sleep all night and I work all day.')\n",
    "\n",
    "repeat_lyrics()"
   ]
  },
  {
   "cell_type": "code",
   "execution_count": 14,
   "metadata": {},
   "outputs": [
    {
     "name": "stdout",
     "output_type": "stream",
     "text": [
      "Enter Hours worked: 10\n",
      "Enter Rate: 25\n",
      "250.0\n"
     ]
    }
   ],
   "source": [
    "'''\n",
    "Exercise 6: Rewrite your pay computation with time-and-a-half for overtime and\n",
    "create a function called computepay which takes two parameters (hours and rate).\n",
    "'''\n",
    "def computepay(hours, rate):\n",
    "    if hours > 40:\n",
    "        pay = 40 * rate + (hours - 40) * rate * 1.5\n",
    "    else:\n",
    "        pay = hours * rate\n",
    "    return pay\n",
    "try:\n",
    "    hrs = float(input(\"Enter Hours worked: \"))\n",
    "    rate = float(input(\"Enter Rate: \"))\n",
    "    pay = computepay(hrs, rate)\n",
    "    print (pay)\n",
    "except:\n",
    "    print(\"Enter Numeric Values\")"
   ]
  },
  {
   "cell_type": "code",
   "execution_count": null,
   "metadata": {
    "collapsed": true
   },
   "outputs": [],
   "source": [
    "'''\n",
    "Exercise 7: Rewrite the grade program from the previous chapter using a function\n",
    "called computegrade that takes a score as its parameter and returns a grade as a\n",
    "string.\n",
    "Score Grade\n",
    "> 0.9 A\n",
    "> 0.8 B\n",
    "> 0.7 C\n",
    "> 0.6 D\n",
    "<= 0.6 F\n",
    "'''\n",
    "def computegrade(score):\n",
    "    if score > 1.0 or score < 0.0:\n",
    "        return(\"Bad Score\")\n",
    "    elif score >= 0.9:\n",
    "        return(\"A\")\n",
    "    elif score >= 0.8:\n",
    "        return (\"B\")\n",
    "    elif score >= 0.7:\n",
    "        return(\"C\")\n",
    "    elif score >= 0.6:\n",
    "        return(\"D\")\n",
    "    else:\n",
    "        return(\"F\")\n",
    "try:\n",
    "    score = float(input(\"Enter a score between 0.0 and 1.0: \"))\n",
    "    grade = computegrade(score)\n",
    "    print(grade)\n",
    "except:\n",
    "    print(\"Bad Score\")"
   ]
  },
  {
   "cell_type": "markdown",
   "metadata": {},
   "source": [
    "##### Chapter 5 Iterations"
   ]
  },
  {
   "cell_type": "code",
   "execution_count": 31,
   "metadata": {},
   "outputs": [
    {
     "name": "stdout",
     "output_type": "stream",
     "text": [
      "> a\n",
      "a\n",
      "> done\n",
      "Done!\n"
     ]
    }
   ],
   "source": [
    "#Practice 1\n",
    "while True:\n",
    "    line = input('> ')\n",
    "    if line == 'done':\n",
    "        break\n",
    "    print(line)\n",
    "print('Done!')"
   ]
  },
  {
   "cell_type": "code",
   "execution_count": 32,
   "metadata": {},
   "outputs": [
    {
     "name": "stdout",
     "output_type": "stream",
     "text": [
      "> a\n",
      "a\n",
      "> asd\n",
      "asd\n",
      "> #sfh\n",
      "> done\n",
      "Done!\n"
     ]
    }
   ],
   "source": [
    "#Practice 2\n",
    "while True:\n",
    "    line = input('> ')\n",
    "    if line[0] == '#':\n",
    "        continue\n",
    "    if line == 'done':\n",
    "        break\n",
    "    print(line)\n",
    "print('Done!')"
   ]
  },
  {
   "cell_type": "code",
   "execution_count": null,
   "metadata": {
    "collapsed": true
   },
   "outputs": [],
   "source": [
    "'''\n",
    "Exercise 1: Write a program which repeatedly reads numbers until the user enters\n",
    "“done”. Once “done” is entered, print out the total, count, and average of the\n",
    "numbers. If the user enters anything other than a number, detect their mistake\n",
    "using try and except and print an error message and skip to the next number.\n",
    "'''\n",
    "num = input(\"Enter a number: \")\n",
    "total = 0.0\n",
    "count = 0\n",
    "avg = 0.0\n",
    "while num != 'done':\n",
    "    try:\n",
    "        num1 = float(num)\n",
    "    except:\n",
    "        print(\"Invalid Input\")\n",
    "        num = input(\"Enter another number or Enter done if finished: \")\n",
    "        continue\n",
    "    total += num1\n",
    "    count += 1\n",
    "    num = input(\"Enter another number or Enter done if finished: \")\n",
    "avg = total / count\n",
    "print(\"Total is\", total, \"\\nCount is\", count, \"\\nAverage is\", avg )\n",
    "    "
   ]
  },
  {
   "cell_type": "code",
   "execution_count": 33,
   "metadata": {},
   "outputs": [
    {
     "name": "stdout",
     "output_type": "stream",
     "text": [
      "Enter a number: 1\n",
      "Enter another number or Enter done if finished: 5\n",
      "Enter another number or Enter done if finished: 2\n",
      "Enter another number or Enter done if finished: 4\n",
      "Enter another number or Enter done if finished: 9\n",
      "Enter another number or Enter done if finished: l\n",
      "Invalid Input\n",
      "Enter another number or Enter done if finished: done\n",
      "Maximum is 9.0 \n",
      "Minimum is 2.0\n"
     ]
    }
   ],
   "source": [
    "'''\n",
    "Exercise 2: Write another program that prompts for a list of numbers as above\n",
    "and at the end prints out both the maximum and minimum of the numbers instead\n",
    "of the average.\n",
    "'''\n",
    "num = input(\"Enter a number: \")\n",
    "maximum = None\n",
    "minimum = None\n",
    "while num != 'done':\n",
    "    try:\n",
    "        num1 = float(num)\n",
    "    except:\n",
    "        print(\"Invalid Input\")\n",
    "        num = input(\"Enter another number or Enter done if finished: \")\n",
    "        continue\n",
    "    if maximum == None or num1 > maximum:\n",
    "        maximum = num1\n",
    "    elif minimum == None or num1 < minimum:\n",
    "        minimum = num1\n",
    "    num = input(\"Enter another number or Enter done if finished: \")\n",
    "print(\"Maximum is\", maximum, \"\\nMinimum is\", minimum)"
   ]
  },
  {
   "cell_type": "code",
   "execution_count": 2,
   "metadata": {},
   "outputs": [
    {
     "name": "stdout",
     "output_type": "stream",
     "text": [
      "Enter a number: 1\n",
      "Enter another number or Enter done if finished: 8\n",
      "Enter another number or Enter done if finished: 5\n",
      "Enter another number or Enter done if finished: 46\n",
      "Enter another number or Enter done if finished: 9\n",
      "Enter another number or Enter done if finished: 27\n",
      "Enter another number or Enter done if finished: .1\n",
      "Enter another number or Enter done if finished: done\n",
      "Maximum is 46.0 \n",
      "Minimum is 0.1\n",
      "Testing Tuple\n",
      "0.1 46.0\n"
     ]
    }
   ],
   "source": [
    "'''\n",
    "Exercise 2: Write another program that prompts for a list of numbers as above\n",
    "and at the end prints out both the maximum and minimum of the numbers instead\n",
    "of the average.\n",
    "'''\n",
    "def max_min():\n",
    "    num = input(\"Enter a number: \")\n",
    "    maximum = None\n",
    "    minimum = None\n",
    "    while num != 'done':\n",
    "        try:\n",
    "            num1 = float(num)\n",
    "        except:\n",
    "            print(\"Invalid Input\")\n",
    "            num = input(\"Enter another number or Enter done if finished: \")\n",
    "            continue\n",
    "        if maximum == None or num1 > maximum:\n",
    "            maximum = num1\n",
    "        elif minimum == None or num1 < minimum:\n",
    "            minimum = num1\n",
    "        num = input(\"Enter another number or Enter done if finished: \")\n",
    "    print(\"Maximum is\", maximum, \"\\nMinimum is\", minimum)\n",
    "    return (maximum, minimum)\n",
    "max,min = max_min()\n",
    "print (\"Testing Tuple\")\n",
    "print (min, max)"
   ]
  },
  {
   "cell_type": "markdown",
   "metadata": {},
   "source": [
    "### Chapter 6 Strings"
   ]
  },
  {
   "cell_type": "code",
   "execution_count": 13,
   "metadata": {},
   "outputs": [
    {
     "name": "stdout",
     "output_type": "stream",
     "text": [
      "e\n",
      "negative index\n",
      "e\n",
      "string slice\n",
      "eappl\n",
      "eapple\n",
      "ple\n",
      "pineapp\n",
      "slice using negative index\n",
      "eappl\n",
      "eapple\n",
      "ple\n",
      "pineapp\n"
     ]
    }
   ],
   "source": [
    "#Practice 1\n",
    "fruit = 'pineapple'\n",
    "length = len(fruit)\n",
    "print (fruit[length - 1])\n",
    "print ('negative index')\n",
    "print (fruit[-1])\n",
    "print ('string slice')\n",
    "print (fruit[3:length - 1])\n",
    "print (fruit[3:])\n",
    "print (fruit[length - 3:])\n",
    "print (fruit[:length - 2])\n",
    "print ('slice using negative index')\n",
    "print (fruit[3:-1])\n",
    "print (fruit[3:])\n",
    "print (fruit[-3:])\n",
    "print (fruit[:-2])"
   ]
  },
  {
   "cell_type": "code",
   "execution_count": null,
   "metadata": {
    "collapsed": true
   },
   "outputs": [],
   "source": [
    "'''\n",
    "Exercise 5: Take the following Python code that stores a string:‘\n",
    "str = ’X-DSPAM-Confidence:0.8475’\n",
    "Use find and string slicing to extract the portion of the string after the colon\n",
    "character and then use the float function to convert the extracted string into a\n",
    "floating point number.\n",
    "'''\n",
    "str = \"X-DSPAM-Confidence:0.8475\"\n",
    "colpos = str.find(':')\n",
    "num = float(str[colpos + 1:])\n",
    "print (\"The Number in the string is %g\" % num)\n",
    "print (colpos)"
   ]
  },
  {
   "cell_type": "markdown",
   "metadata": {},
   "source": [
    "##### Chapter 7 Files"
   ]
  },
  {
   "cell_type": "code",
   "execution_count": null,
   "metadata": {
    "collapsed": true
   },
   "outputs": [],
   "source": [
    "'''\n",
    "Exercise 1: Write a program to read through a file and print the contents of the\n",
    "file (line by line) all in upper case.\n",
    "'''\n",
    "file = open(\"mbox-short.txt\")\n",
    "for line in file:\n",
    "    print (line.upper())\n",
    "#print(file)\n",
    "file.close()"
   ]
  },
  {
   "cell_type": "code",
   "execution_count": null,
   "metadata": {
    "collapsed": true
   },
   "outputs": [],
   "source": [
    "'''\n",
    "Exercise 1: Write a program to read through a file and print the contents of the\n",
    "file (line by line) all in upper case.\n",
    "'''\n",
    "file = open(\"C:\\\\Users\\\\ashish.sisodia\\\\Desktop\\\\Python\\\\Files\\\\mbox-short.txt\")\n",
    "fileread = file.read()\n",
    "print(fileread.upper())\n",
    "#print(file)\n",
    "file.close()"
   ]
  },
  {
   "cell_type": "code",
   "execution_count": null,
   "metadata": {
    "collapsed": true
   },
   "outputs": [],
   "source": [
    "'''\n",
    "Exercise 1: Write a program to read through a file and print the contents of the\n",
    "file (line by line) all in upper case.\n",
    "'''\n",
    "file = open(r\"C:\\Users\\ashish.sisodia\\Desktop\\Python\\Files\\mbox-short.txt\")\n",
    "fileread = file.read()\n",
    "print(fileread.upper())\n",
    "#print(file)\n",
    "file.close()"
   ]
  },
  {
   "cell_type": "code",
   "execution_count": null,
   "metadata": {
    "collapsed": true
   },
   "outputs": [],
   "source": [
    "'''\n",
    "Exercise 2: Write a program to prompt for a file name, and then read through the\n",
    "file and look for lines of the form:\n",
    "'''\n",
    "filename = input(\"Enter a Filename: \")\n",
    "while 1:\n",
    "    try:\n",
    "        #print(\"Test\")\n",
    "        file = open(filename)\n",
    "        break\n",
    "    except:\n",
    "        print (\"Not a Valid File name/ File not found\")\n",
    "        filename = input(\"Enter a Filename: \")\n",
    "        \n",
    "        \n",
    "'''Not Working\n",
    "        else:\n",
    "            print(\"Exiting Program\")\n",
    "            exit()\n",
    "            \n",
    "'''\n",
    "count = 0\n",
    "avg = 0.0\n",
    "num = 0.0\n",
    "for line in file:\n",
    "    line = line.rstrip()\n",
    "    if line.startswith(\"X-DSPAM-Confidence\"):  \n",
    "        colpos = line.find(':')\n",
    "        #print (colpos)\n",
    "        #print (line)\n",
    "        num += float(line[colpos + 2:])\n",
    "        count += 1\n",
    "       # num = round(num,10)\n",
    "avg = round((num / count),10)\n",
    "print (\"The Total of Confidence is %g, Count is %d, and Average Confidence is %g\" % (num, count, avg))\n",
    "file.close()       \n"
   ]
  },
  {
   "cell_type": "markdown",
   "metadata": {},
   "source": [
    "##### Chapter 8 Lists"
   ]
  },
  {
   "cell_type": "code",
   "execution_count": 22,
   "metadata": {},
   "outputs": [
    {
     "name": "stdout",
     "output_type": "stream",
     "text": [
      "[2, 3]\n",
      "[1, 2, 3, 4]\n",
      "[2, 3]\n"
     ]
    }
   ],
   "source": [
    "'''\n",
    "Exercise 1:\n",
    "Write a function called chop that takes a list and modifies it, removing the first\n",
    "and last elements, and returns None.\n",
    "'''\n",
    "def list_func(lst):\n",
    "    del lst[0]\n",
    "    del lst[-1]\n",
    "def list_func2(lst):\n",
    "    t = lst[1:-1]\n",
    "    return (t)\n",
    "lst1 = [1,2,3,4]\n",
    "lst2 = [1,2,3,4]\n",
    "list_func(lst1)\n",
    "print (lst1)\n",
    "t1 = list_func2(lst2)\n",
    "print (lst2)\n",
    "print (t1)"
   ]
  },
  {
   "cell_type": "code",
   "execution_count": null,
   "metadata": {
    "collapsed": true
   },
   "outputs": [],
   "source": [
    "'''\n",
    "Exercise 4: Write a program to open the file romeo.txt and read it line by line. For each line,\n",
    "split the line into a list of words using the split function.\n",
    "For each word, check to see if the word is already in a list. If the word is not in\n",
    "the list, add it to the list.\n",
    "When the\n",
    "'''\n",
    "filename = open(\"C:\\\\Users\\\\ashish.sisodia\\\\Desktop\\\\Python\\\\Files\\\\romeo.txt\")\n",
    "list_words = []\n",
    "for line in filename:\n",
    "    line = line.rstrip()\n",
    "    list_words_line = line.split()\n",
    "    for word in list_words_line:\n",
    "        if word in list_words:\n",
    "            continue\n",
    "        else:\n",
    "            list_words.append(word)\n",
    "list_words.sort()\n",
    "print (list_words)"
   ]
  },
  {
   "cell_type": "code",
   "execution_count": null,
   "metadata": {
    "collapsed": true
   },
   "outputs": [],
   "source": [
    "'''\n",
    "Exercise 5: Write a program to read through the mail box data and when you\n",
    "find line that starts with “From”, you will split the line into words using the split\n",
    "function. We are interested in who sent the message, which is the second word on\n",
    "the From line.\n",
    "From stephen.marquard@uct.ac.za Sat Jan 5 09:14:16 2008\n",
    "You will parse the From line and print out the second word for each From line,\n",
    "then you will also\n",
    "'''\n",
    "file = open(\"C:\\\\Users\\\\ashish.sisodia\\\\Desktop\\\\Python\\\\Files\\\\mbox-short.txt\")\n",
    "count = 0\n",
    "for line in file:\n",
    "    line = line.rstrip()\n",
    "    if line.startswith(\"From \"):\n",
    "        list_words = line.split()\n",
    "        print (list_words[1])\n",
    "        count += 1\n",
    "print (\"There were %d lines in the file with word From as the first word\" % count)\n",
    "    \n",
    "\n",
    "file.close()"
   ]
  },
  {
   "cell_type": "code",
   "execution_count": null,
   "metadata": {
    "collapsed": true
   },
   "outputs": [],
   "source": [
    "'''\n",
    "Exercise 6: Rewrite the program that prompts the user for a list of numbers and\n",
    "prints out the maximum and minimum of the numbers at the end when the user\n",
    "enters “done”. Write the program to store the numbers the user enters in a list\n",
    "and use the max() and min() functions to compute the maximum and minimum\n",
    "numbers after the loop completes.\n",
    "'''\n",
    "num = input(\"Enter a number: \")\n",
    "#maximum = 0.0\n",
    "#minimum = 0\n",
    "num_list = []\n",
    "while num != 'done':\n",
    "    try:\n",
    "        num1 = float(num)\n",
    "    except:\n",
    "        print(\"Invalid Input\")\n",
    "        num = input(\"Enter another number or Enter done if finished: \")\n",
    "        continue\n",
    "    num_list.append(num1)\n",
    "    num = input(\"Enter another number or Enter done if finished: \")\n",
    "maximum = max(num_list)\n",
    "minimum = min(num_list)\n",
    "print(\"Maximum is\", maximum, \"\\nMinimum is\", minimum)"
   ]
  },
  {
   "cell_type": "markdown",
   "metadata": {},
   "source": [
    "##### Chapter 9 Dictionaries"
   ]
  },
  {
   "cell_type": "code",
   "execution_count": 23,
   "metadata": {},
   "outputs": [
    {
     "name": "stdout",
     "output_type": "stream",
     "text": [
      "{'b': 1, 'r': 2, 'o': 2, 'n': 1, 't': 1, 's': 2, 'a': 1, 'u': 2}\n"
     ]
    }
   ],
   "source": [
    "#Practice 1\n",
    "word = 'brontosaurus'\n",
    "d = dict()\n",
    "for c in word:\n",
    "    d[c] = d.get(c,0) + 1\n",
    "print(d)"
   ]
  },
  {
   "cell_type": "code",
   "execution_count": 34,
   "metadata": {},
   "outputs": [
    {
     "name": "stdout",
     "output_type": "stream",
     "text": [
      "Enter the file name: C:\\\\Users\\\\ashish.sisodia\\\\Desktop\\\\Python\\\\Files\\\\romeo-full.txt\n",
      "{'romeo': 40, 'and': 42, 'juliet': 32, 'act': 1, '2': 2, 'scene': 2, 'ii': 1, 'capulets': 1, 'orchard': 2, 'enter': 1, 'he': 5, 'jests': 1, 'at': 9, 'scars': 1, 'that': 30, 'never': 2, 'felt': 1, 'a': 24, 'wound': 1, 'appears': 1, 'above': 6, 'window': 2, 'but': 18, 'soft': 1, 'what': 11, 'light': 5, 'through': 2, 'yonder': 2, 'breaks': 1, 'it': 22, 'is': 21, 'the': 34, 'east': 1, 'sun': 2, 'arise': 1, 'fair': 4, 'kill': 2, 'envious': 2, 'moon': 4, 'who': 5, 'already': 1, 'sick': 2, 'pale': 1, 'with': 8, 'grief': 2, 'thou': 32, 'her': 14, 'maid': 2, 'art': 7, 'far': 2, 'more': 9, 'than': 6, 'she': 9, 'be': 14, 'not': 18, 'since': 1, 'vestal': 1, 'livery': 1, 'green': 1, 'none': 1, 'fools': 1, 'do': 7, 'wear': 1, 'cast': 1, 'off': 1, 'my': 29, 'lady': 2, 'o': 11, 'love': 24, 'knew': 1, 'were': 9, 'speaks': 3, 'yet': 9, 'says': 1, 'nothing': 1, 'of': 20, 'eye': 2, 'discourses': 1, 'i': 61, 'will': 8, 'answer': 1, 'am': 7, 'too': 8, 'bold': 1, 'tis': 4, 'to': 34, 'me': 18, 'two': 1, 'fairest': 1, 'stars': 2, 'in': 13, 'all': 6, 'heaven': 3, 'having': 1, 'some': 3, 'business': 1, 'entreat': 1, 'eyes': 6, 'twinkle': 1, 'their': 6, 'spheres': 1, 'till': 4, 'they': 5, 'return': 1, 'if': 12, 'there': 3, 'head': 2, 'brightness': 1, 'cheek': 4, 'would': 16, 'shame': 1, 'those': 2, 'as': 12, 'daylight': 1, 'doth': 2, 'lamp': 1, 'airy': 2, 'region': 1, 'stream': 1, 'so': 10, 'bright': 2, 'birds': 1, 'sing': 1, 'think': 2, 'night': 16, 'see': 2, 'how': 5, 'leans': 1, 'upon': 5, 'hand': 4, 'glove': 1, 'might': 1, 'touch': 1, 'ay': 2, 'speak': 4, 'again': 6, 'angel': 1, 'for': 12, 'glorious': 1, 'this': 9, 'being': 2, 'oer': 1, 'winged': 1, 'messenger': 1, 'unto': 1, 'whiteupturned': 1, 'wondering': 1, 'mortals': 1, 'fall': 1, 'back': 4, 'gaze': 1, 'on': 4, 'him': 2, 'when': 2, 'bestrides': 1, 'lazypacing': 1, 'clouds': 1, 'sails': 1, 'bosom': 1, 'air': 1, 'wherefore': 2, 'deny': 2, 'thy': 20, 'father': 1, 'refuse': 1, 'name': 11, 'or': 4, 'wilt': 6, 'sworn': 1, 'ill': 8, 'no': 6, 'longer': 1, 'capulet': 1, 'aside': 1, 'shall': 6, 'hear': 2, 'enemy': 2, 'thyself': 1, 'though': 1, 'montague': 5, 'whats': 2, 'nor': 5, 'foot': 2, 'arm': 1, 'face': 2, 'any': 4, 'other': 4, 'part': 2, 'belonging': 1, 'man': 2, 'which': 7, 'we': 2, 'call': 3, 'rose': 1, 'by': 14, 'smell': 1, 'sweet': 8, 'calld': 1, 'retain': 1, 'dear': 7, 'perfection': 1, 'owes': 1, 'without': 1, 'title': 1, 'doff': 1, 'thee': 24, 'take': 3, 'myself': 2, 'word': 4, 'new': 1, 'baptized': 1, 'henceforth': 1, 'thus': 1, 'bescreend': 1, 'stumblest': 1, 'counsel': 2, 'know': 3, 'tell': 3, 'saint': 2, 'hateful': 1, 'because': 1, 'an': 2, 'had': 1, 'written': 1, 'tear': 2, 'ears': 2, 'have': 13, 'drunk': 1, 'hundred': 1, 'words': 2, 'tongues': 2, 'utterance': 1, 'sound': 2, 'neither': 1, 'either': 1, 'dislike': 1, 'camest': 1, 'hither': 1, 'walls': 2, 'are': 3, 'high': 1, 'hard': 1, 'climb': 1, 'place': 2, 'death': 2, 'considering': 1, 'kinsmen': 2, 'find': 2, 'here': 4, 'loves': 3, 'wings': 1, 'did': 3, 'oerperch': 1, 'these': 2, 'stony': 1, 'limits': 1, 'cannot': 1, 'hold': 1, 'out': 2, 'can': 2, 'dares': 1, 'attempt': 1, 'therefore': 3, 'let': 3, 'murder': 1, 'alack': 1, 'lies': 2, 'peril': 1, 'thine': 2, 'twenty': 2, 'swords': 1, 'look': 1, 'proof': 1, 'against': 1, 'enmity': 1, 'world': 3, 'saw': 1, 'nights': 1, 'cloak': 1, 'hide': 1, 'from': 4, 'sight': 1, 'them': 1, 'life': 1, 'better': 1, 'ended': 1, 'hate': 1, 'prorogued': 1, 'wanting': 1, 'whose': 1, 'direction': 1, 'foundst': 1, 'first': 1, 'prompt': 1, 'inquire': 1, 'lent': 2, 'pilot': 1, 'wert': 1, 'vast': 1, 'shore': 1, 'washd': 1, 'farthest': 1, 'sea': 2, 'adventure': 1, 'such': 2, 'merchandise': 1, 'knowst': 1, 'mask': 1, 'else': 3, 'maiden': 1, 'blush': 1, 'bepaint': 1, 'hast': 1, 'heard': 1, 'tonight': 3, 'fain': 3, 'dwell': 2, 'form': 1, 'spoke': 1, 'farewell': 1, 'compliment': 1, 'dost': 2, 'say': 5, 'swearst': 1, 'mayst': 2, 'prove': 4, 'false': 1, 'lovers': 2, 'perjuries': 1, 'then': 2, 'jove': 1, 'laughs': 1, 'gentle': 1, 'pronounce': 1, 'faithfully': 1, 'thinkst': 1, 'quickly': 1, 'won': 1, 'frown': 1, 'perverse': 1, 'nay': 1, 'woo': 1, 'truth': 1, 'fond': 1, 'havior': 1, 'trust': 1, 'gentleman': 1, 'true': 3, 'cunning': 1, 'strange': 2, 'should': 2, 'been': 1, 'must': 1, 'confess': 1, 'overheardst': 1, 'ere': 2, 'was': 1, 'ware': 1, 'passion': 1, 'pardon': 1, 'impute': 1, 'yielding': 1, 'dark': 1, 'hath': 1, 'discovered': 1, 'blessed': 3, 'swear': 6, 'tips': 1, 'silver': 1, 'fruittree': 1, 'tops': 1, 'inconstant': 1, 'monthly': 1, 'changes': 1, 'circled': 1, 'orb': 1, 'lest': 1, 'likewise': 1, 'variable': 1, 'gracious': 1, 'self': 1, 'god': 1, 'idolatry': 1, 'believe': 1, 'hearts': 1, 'well': 2, 'although': 1, 'joy': 2, 'contract': 1, 'rash': 1, 'unadvised': 1, 'sudden': 1, 'like': 3, 'lightning': 1, 'cease': 2, 'one': 2, 'lightens': 1, 'good': 9, 'bud': 1, 'summers': 1, 'ripening': 1, 'breath': 1, 'may': 2, 'beauteous': 1, 'flower': 1, 'next': 1, 'meet': 1, 'repose': 1, 'rest': 2, 'come': 5, 'heart': 1, 'within': 5, 'breast': 2, 'leave': 2, 'unsatisfied': 1, 'satisfaction': 1, 'canst': 1, 'exchange': 1, 'faithful': 1, 'vow': 1, 'mine': 3, 'gave': 1, 'before': 1, 'didst': 1, 'request': 1, 'give': 3, 'wouldst': 1, 'withdraw': 1, 'purpose': 2, 'frank': 1, 'wish': 1, 'thing': 1, 'bounty': 1, 'boundless': 1, 'deep': 1, 'both': 1, 'infinite': 1, 'nurse': 4, 'calls': 2, 'noise': 1, 'adieu': 1, 'anon': 1, 'stay': 2, 'little': 2, 'exit': 4, 'afeard': 1, 'dream': 1, 'flatteringsweet': 1, 'substantial': 1, 'reenter': 2, 'three': 1, 'indeed': 1, 'bent': 1, 'honourable': 1, 'marriage': 1, 'send': 3, 'tomorrow': 3, 'procure': 1, 'where': 2, 'time': 1, 'perform': 1, 'rite': 1, 'fortunes': 1, 'lay': 1, 'follow': 1, 'lord': 1, 'throughout': 1, 'madam': 2, 'anonbut': 1, 'meanst': 1, 'beseech': 1, 'suit': 1, 'thrive': 1, 'soul': 2, 'thousand': 2, 'times': 2, 'worse': 1, 'want': 1, 'goes': 1, 'toward': 2, 'schoolboys': 1, 'books': 1, 'school': 1, 'heavy': 1, 'looks': 1, 'retiring': 1, 'hist': 2, 'falconers': 1, 'voice': 1, 'lure': 1, 'tasselgentle': 1, 'bondage': 1, 'hoarse': 2, 'aloud': 1, 'cave': 1, 'echo': 1, 'make': 1, 'tongue': 1, 'repetition': 1, 'romeos': 1, 'silversweet': 1, 'softest': 1, 'music': 1, 'attending': 1, 'oclock': 1, 'hour': 1, 'nine': 1, 'fail': 1, 'years': 1, 'forgot': 1, 'why': 1, 'stand': 2, 'remember': 1, 'forget': 2, 'still': 3, 'remembering': 1, 'company': 1, 'forgetting': 1, 'home': 1, 'almost': 1, 'morning': 1, 'gone': 1, 'further': 1, 'wantons': 1, 'bird': 2, 'lets': 1, 'hop': 1, 'poor': 1, 'prisoner': 1, 'his': 3, 'twisted': 1, 'gyves': 1, 'silk': 1, 'thread': 1, 'plucks': 1, 'lovingjealous': 1, 'liberty': 1, 'much': 1, 'cherishing': 1, 'parting': 1, 'sorrow': 1, 'morrow': 1, 'sleep': 2, 'peace': 2, 'hence': 1, 'ghostly': 1, 'fathers': 1, 'cell': 1, 'help': 1, 'crave': 1, 'hap': 1}\n"
     ]
    }
   ],
   "source": [
    "#Practice 2\n",
    "import string\n",
    "fname = input('Enter the file name: ')\n",
    "try:\n",
    "    fhand = open(fname)\n",
    "except:\n",
    "    print('File cannot be opened:', fname)\n",
    "    exit()\n",
    "counts = dict()\n",
    "for line in fhand:\n",
    "    line = line.rstrip()\n",
    "    line = line.translate(line.maketrans('', '', string.punctuation))\n",
    "    line = line.lower()\n",
    "    words = line.split()\n",
    "    for word in words:\n",
    "        if word not in counts:\n",
    "            counts[word] = 1\n",
    "        else:\n",
    "            counts[word] += 1\n",
    "print(counts)"
   ]
  },
  {
   "cell_type": "code",
   "execution_count": 27,
   "metadata": {},
   "outputs": [
    {
     "name": "stdout",
     "output_type": "stream",
     "text": [
      "{'Sat': 1, 'Fri': 20, 'Thu': 6}\n",
      "dict_keys(['Sat', 'Fri', 'Thu'])\n"
     ]
    }
   ],
   "source": [
    "'''\n",
    "Exercise 2: Write a program that categorizes each mail message by which day of\n",
    "the week the commit was done. To do this look for lines that start with “From”,\n",
    "then look for the third word and keep a running count of each of the days of the\n",
    "week. At the end of the program print out the contents of your dictionary (order\n",
    "does not matter).\n",
    "'''\n",
    "file = open(\"C:\\\\Users\\\\ashish.sisodia\\\\Desktop\\\\Python\\\\Files\\\\mbox-short.txt\")\n",
    "d = dict()\n",
    "for line in file:\n",
    "    line = line.rstrip()\n",
    "    if line.startswith(\"From \"):\n",
    "        words_list = line.split()\n",
    "        weekday = words_list[2]\n",
    "        if weekday not in d:\n",
    "            d[weekday] = 1\n",
    "        else:\n",
    "            d[weekday] = d[weekday] + 1\n",
    "    \n",
    "print (d) \n",
    "file.close()"
   ]
  },
  {
   "cell_type": "code",
   "execution_count": 32,
   "metadata": {},
   "outputs": [
    {
     "name": "stdout",
     "output_type": "stream",
     "text": [
      "Sat 1\n",
      "Fri 20\n",
      "Thu 6\n",
      "\n",
      "['Fri', 'Sat', 'Thu']\n",
      "Fri 20\n",
      "Sat 1\n",
      "Thu 6\n"
     ]
    }
   ],
   "source": [
    "'''\n",
    "Exercise 2: Write a program that categorizes each mail message by which day of\n",
    "the week the commit was done. To do this look for lines that start with “From”,\n",
    "then look for the third word and keep a running count of each of the days of the\n",
    "week. At the end of the program print out the contents of your dictionary (order\n",
    "does not matter).\n",
    "'''\n",
    "file = open(\"C:\\\\Users\\\\ashish.sisodia\\\\Desktop\\\\Python\\\\Files\\\\mbox-short.txt\")\n",
    "d = dict()\n",
    "for line in file:\n",
    "    line = line.rstrip()\n",
    "    if line.startswith(\"From \"):\n",
    "        words_list = line.split()\n",
    "        weekday = words_list[2]\n",
    "        d[weekday] = d.get(weekday, 0) + 1\n",
    "    \n",
    "for key in d:\n",
    "    print (key, d[key])\n",
    "lst = list(d.keys())\n",
    "lst.sort()\n",
    "print()\n",
    "print(lst)\n",
    "for key in lst:\n",
    "    print (key, d[key])\n",
    "file.close()"
   ]
  },
  {
   "cell_type": "code",
   "execution_count": null,
   "metadata": {},
   "outputs": [],
   "source": [
    "'''\n",
    "Exercise 3: Write a program to read through a mail log, build a histogram using\n",
    "a dictionary to count how many messages have come from each email address, and\n",
    "print the dictionary.\n",
    "'''\n",
    "file = open(\"C:\\\\Users\\\\ashish.sisodia\\\\Desktop\\\\Python\\\\Files\\\\mbox-short.txt\")\n",
    "d = dict()\n",
    "for line in file:\n",
    "    line = line.rstrip()\n",
    "    if line.startswith(\"From \"):\n",
    "        words_list = line.split()\n",
    "        email = words_list[1]\n",
    "        if email not in d:\n",
    "            d[email] = 1\n",
    "        else:\n",
    "            d[email] = d[email] + 1\n",
    "    \n",
    "print (d)  \n",
    "file.close()"
   ]
  },
  {
   "cell_type": "code",
   "execution_count": null,
   "metadata": {},
   "outputs": [],
   "source": [
    "'''\n",
    "Exercise 4: Add code to the above program to figure out who has the most\n",
    "messages in the file.\n",
    "After all the data has been read and the dictionary has been created, look through\n",
    "the dictionary using a maximum loop (see Section [maximumloop]) to find who\n",
    "has the most messages and print how many messages the person has.\n",
    "'''\n",
    "file = open(\"C:\\\\Users\\\\ashish.sisodia\\\\Desktop\\\\Python\\\\Files\\\\mbox-short.txt\")\n",
    "max = 0\n",
    "min = 1\n",
    "max_key = []\n",
    "min_key = []\n",
    "d = dict()\n",
    "for line in file:\n",
    "    line = line.rstrip()\n",
    "    if line.startswith(\"From \"):\n",
    "        words_list = line.split()\n",
    "        email = words_list[1]\n",
    "        if email not in d:\n",
    "            d[email] = 1\n",
    "        else:\n",
    "            d[email] = d[email] + 1\n",
    "for key in d:\n",
    "    if d[key] > max:\n",
    "        max_key.append(key)\n",
    "        max = d[key]        \n",
    "    elif d[key] <= min:\n",
    "        min_key.append(key)\n",
    "        min = d[key]\n",
    "for key in max_key:\n",
    "    if d[key] == max:\n",
    "        print (key, d[key])\n",
    "for key in min_key:\n",
    "    if d[key] == min:\n",
    "        print (key, d[key])\n",
    "file.close()"
   ]
  },
  {
   "cell_type": "code",
   "execution_count": null,
   "metadata": {},
   "outputs": [],
   "source": [
    "'''\n",
    "Exercise 5: This program records the domain name (instead of the address) where\n",
    "the message was sent from instead of who the mail came from (i.e., the whole email\n",
    "address). At the end of the program, print out the contents of your dictionary.\n",
    "'''\n",
    "file = open(\"C:\\\\Users\\\\ashish.sisodia\\\\Desktop\\\\Python\\\\Files\\\\mbox-short.txt\")\n",
    "d = dict()\n",
    "for line in file:\n",
    "    line = line.rstrip()\n",
    "    if line.startswith(\"From \"):\n",
    "        words_list = line.split()\n",
    "        email = words_list[1]\n",
    "        domain = email.split(\"@\")\n",
    "        temp = domain[1]\n",
    "        if temp not in d:\n",
    "            d[temp] = 1\n",
    "        else:\n",
    "            d[temp] = d[temp] + 1\n",
    "    \n",
    "print (d)  \n",
    "file.close()"
   ]
  },
  {
   "cell_type": "markdown",
   "metadata": {},
   "source": [
    "##### Chapter 10 Tuples"
   ]
  },
  {
   "cell_type": "code",
   "execution_count": null,
   "metadata": {},
   "outputs": [],
   "source": [
    "#Practice 1\n",
    "a,b = 1,2\n",
    "print(a,b)\n",
    "a,b = b,a\n",
    "print(a,b)"
   ]
  },
  {
   "cell_type": "code",
   "execution_count": 38,
   "metadata": {},
   "outputs": [
    {
     "name": "stdout",
     "output_type": "stream",
     "text": [
      "[('a', 10), ('b', 1), ('c', 22)]\n",
      "['a', 'b', 'c']\n",
      "[10, 1, 22]\n"
     ]
    }
   ],
   "source": [
    "#Practice 2\n",
    "d = {'a':10, 'b':1, 'c':22}\n",
    "t = list(d.items())\n",
    "t1 = list(d.keys())\n",
    "t2 = list(d.values())\n",
    "print(t)\n",
    "print (t1)\n",
    "print (t2)"
   ]
  },
  {
   "cell_type": "code",
   "execution_count": 33,
   "metadata": {},
   "outputs": [
    {
     "name": "stdout",
     "output_type": "stream",
     "text": [
      "61 i\n",
      "42 and\n",
      "40 romeo\n",
      "34 to\n",
      "34 the\n",
      "32 thou\n",
      "32 juliet\n",
      "30 that\n",
      "29 my\n",
      "24 thee\n"
     ]
    }
   ],
   "source": [
    "#Practice 3\n",
    "import string\n",
    "fhand = open('C:\\\\Users\\\\ashish.sisodia\\\\Desktop\\\\Python\\\\Files\\\\romeo-full.txt')\n",
    "counts = dict()\n",
    "for line in fhand:\n",
    "    line = line.translate(str.maketrans('', '', string.punctuation))\n",
    "    line = line.lower()\n",
    "    words = line.split()\n",
    "    for word in words:\n",
    "        if word not in counts:\n",
    "            counts[word] = 1\n",
    "        else:\n",
    "            counts[word] += 1\n",
    "# Sort the dictionary by value\n",
    "lst = list()\n",
    "for key, val in list(counts.items()):\n",
    "    lst.append((val, key))\n",
    "    lst.sort(reverse=True)\n",
    "for key, val in lst[:10]:\n",
    "    print(key, val)"
   ]
  },
  {
   "cell_type": "code",
   "execution_count": 56,
   "metadata": {},
   "outputs": [
    {
     "name": "stdout",
     "output_type": "stream",
     "text": [
      "5 cwen@iupui.edu\n",
      "\n",
      "antranig@caret.cam.ac.uk 1\n",
      "cwen@iupui.edu 5\n",
      "david.horwitz@uct.ac.za 4\n",
      "gopal.ramasammycook@gmail.com 1\n",
      "gsilver@umich.edu 3\n",
      "louis@media.berkeley.edu 3\n",
      "ray@media.berkeley.edu 1\n",
      "rjlowe@iupui.edu 2\n",
      "stephen.marquard@uct.ac.za 2\n",
      "wagnermr@iupui.edu 1\n",
      "zqian@umich.edu 4\n"
     ]
    }
   ],
   "source": [
    "'''\n",
    "Exercise 1: Revise a previous program as follows: Read and parse the “From”\n",
    "lines and pull out the addresses from the line. Count the number of messages from\n",
    "each person using a dictionary.\n",
    "After all the data has been read, print the person with the most commits by\n",
    "creating a list of (count, email) tuples from the dictionary. Then sort the list in\n",
    "reverse order and print out the person who has the most commits.\n",
    "'''\n",
    "file = open(\"C:\\\\Users\\\\ashish.sisodia\\\\Desktop\\\\Python\\\\Files\\\\mbox-short.txt\")\n",
    "d = dict()\n",
    "for line in file:\n",
    "    line = line.rstrip()\n",
    "    if line.startswith(\"From \"):\n",
    "        words_list = line.split()\n",
    "        email = words_list[1]\n",
    "        #domain = email.split(\"@\")\n",
    "        #temp = domain[1]\n",
    "        temp = email\n",
    "        d[temp] = d.get(temp,0)+1\n",
    "        \n",
    "lst = list()\n",
    "for key, val in list(d.items()):\n",
    "    lst.append((val, key))\n",
    "    lst.sort(reverse=True)\n",
    "for key, val in lst[:1]:\n",
    "    print(key, val)\n",
    "            \n",
    "lst = list(d.keys())\n",
    "lst.sort()\n",
    "print()\n",
    "for key in lst:\n",
    "    print (key,d[key])\n",
    "file.close()"
   ]
  },
  {
   "cell_type": "code",
   "execution_count": null,
   "metadata": {
    "collapsed": true
   },
   "outputs": [],
   "source": [
    "'''\n",
    "Exercise 1: Revise a previous program as follows: Read and parse the “From”\n",
    "lines and pull out the addresses from the line. Count the number of messages from\n",
    "each person using a dictionary.\n",
    "After all the data has been read, print the person with the most commits by\n",
    "creating a list of (count, email) tuples from the dictionary. Then sort the list in\n",
    "reverse order and print out the person who has the most commits.\n",
    "'''\n",
    "class bcolors:\n",
    "    HEADER = '\\033[95m'\n",
    "    OKBLUE = '\\033[94m'\n",
    "    OKGREEN = '\\033[92m'\n",
    "    WARNING = '\\033[93m'\n",
    "    FAIL = '\\033[91m'\n",
    "    ENDC = '\\033[0m'\n",
    "    BOLD = '\\033[1m'\n",
    "    UNDERLINE = '\\033[4m'\n",
    "\n",
    "file = open(\"C:\\\\Users\\\\ashish.sisodia\\\\Desktop\\\\Python\\\\Files\\\\mbox-short.txt\")\n",
    "d = dict()\n",
    "for line in file:\n",
    "    line = line.rstrip()\n",
    "    if line.startswith(\"From \"):\n",
    "        words_list = line.split()\n",
    "        email = words_list[1]\n",
    "        #domain = email.split(\"@\")\n",
    "        #temp = domain[1]\n",
    "        temp = email\n",
    "        d[temp] = d.get(temp,0)+1\n",
    "        \n",
    "lst = list()\n",
    "for key, val in list(d.items()):\n",
    "    lst.append((val, key))\n",
    "    lst.sort(reverse=True)\n",
    "for key, val in lst[:1]:\n",
    "    print(key, val)\n",
    "            \n",
    "lst = list(d.keys())\n",
    "lst.sort()\n",
    "print()\n",
    "for key in lst:\n",
    "    print (bcolors.BOLD,key,bcolors.OKBLUE,d[key],bcolors.ENDC)\n",
    "file.close()"
   ]
  }
 ],
 "metadata": {
  "kernelspec": {
   "display_name": "Python 3",
   "language": "python",
   "name": "python3"
  },
  "language_info": {
   "codemirror_mode": {
    "name": "ipython",
    "version": 3
   },
   "file_extension": ".py",
   "mimetype": "text/x-python",
   "name": "python",
   "nbconvert_exporter": "python",
   "pygments_lexer": "ipython3",
   "version": "3.6.3"
  }
 },
 "nbformat": 4,
 "nbformat_minor": 2
}
