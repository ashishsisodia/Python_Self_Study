{
 "cells": [
  {
   "cell_type": "markdown",
   "metadata": {},
   "source": [
    "##### Chapter 2 Variables, expressions and statements"
   ]
  },
  {
   "cell_type": "code",
   "execution_count": null,
   "metadata": {
    "collapsed": true
   },
   "outputs": [],
   "source": [
    "#Exercise 2\n",
    "name = input(\"Enter your name: \")\n",
    "print (\"Hello\", name)"
   ]
  },
  {
   "cell_type": "code",
   "execution_count": null,
   "metadata": {
    "collapsed": true
   },
   "outputs": [],
   "source": [
    "#Exercise 3\n",
    "hrs = input(\"Enter Hours: \")\n",
    "rate = input(\"Enter Rate: \")\n",
    "pay = float(hrs) * float(rate)\n",
    "print (pay)"
   ]
  },
  {
   "cell_type": "code",
   "execution_count": null,
   "metadata": {
    "collapsed": true
   },
   "outputs": [],
   "source": [
    "#Exercise 4\n",
    "width = 17\n",
    "height = 13.0\n",
    "print(width//2)\n",
    "print(width//2.0)\n",
    "print(width/2)\n",
    "print(width/2.0)\n",
    "print(width%2.0)\n",
    "print(width%2)\n",
    "print(height//2)\n",
    "print(height//2.0)\n",
    "print(height/2)\n",
    "print(height/2.0)\n",
    "print(height%2)\n",
    "print(height%2.0)"
   ]
  },
  {
   "cell_type": "code",
   "execution_count": null,
   "metadata": {
    "collapsed": true
   },
   "outputs": [],
   "source": [
    "#celcius to fahrenheit\n",
    "#Exercise 5\n",
    "temp_c = input(\"Temp in Celsius: \")\n",
    "temp_f = float(temp_c) * 1.8 + 32\n",
    "print (\"Temp in Fahrenheit is\", temp_f)"
   ]
  },
  {
   "cell_type": "markdown",
   "metadata": {},
   "source": [
    "##### Chapter 3 Conditional Execution"
   ]
  },
  {
   "cell_type": "code",
   "execution_count": null,
   "metadata": {
    "collapsed": true
   },
   "outputs": [],
   "source": [
    "#Exercise 1, 2\n",
    "try:\n",
    "    hrs = float(input(\"Enter Hours: \"))\n",
    "    rate = float(input(\"Enter Rate: \"))\n",
    "    if hrs <= 40:\n",
    "        pay = hrs * rate\n",
    "    else:\n",
    "        pay = ((hrs -40) * rate * 1.5) + (40 * rate)\n",
    "    print (pay)\n",
    "except:\n",
    "    print(\"Please enter numeric input\")\n",
    "    "
   ]
  },
  {
   "cell_type": "code",
   "execution_count": null,
   "metadata": {
    "collapsed": true
   },
   "outputs": [],
   "source": [
    "#Exercise 3\n",
    "try:\n",
    "    score = float(input(\"Enter a score between 0.0 and 1.0: \"))\n",
    "    if score > 1.0 or score < 0.0:\n",
    "        print(\"Bad Score\")\n",
    "    elif score >= 0.9:\n",
    "        print(\"A\")\n",
    "    elif score >= 0.8:\n",
    "        print (\"B\")\n",
    "    elif score >= 0.7:\n",
    "        print(\"C\")\n",
    "    elif score >= 0.6:\n",
    "        print(\"D\")\n",
    "    else:\n",
    "        print(\"F\")\n",
    "except:\n",
    "    print(\"Bad Score\")"
   ]
  },
  {
   "cell_type": "markdown",
   "metadata": {},
   "source": [
    "##### Chapter 4 Functions"
   ]
  },
  {
   "cell_type": "code",
   "execution_count": null,
   "metadata": {
    "collapsed": true
   },
   "outputs": [],
   "source": [
    "#Exercise 6\n",
    "def computepay(hours, rate):\n",
    "    if hours > 40:\n",
    "        pay = 40 * rate + (hours - 40) * rate * 1.5\n",
    "    else:\n",
    "        pay = hours * rate\n",
    "    return pay\n",
    "try:\n",
    "    hrs = float(input(\"Enter Hours worked: \"))\n",
    "    rate = float(input(\"Enter Rate: \"))\n",
    "    pay = computepay(hrs, rate)\n",
    "    print (pay)\n",
    "except:\n",
    "    print(\"Enter Numeric Values\")"
   ]
  },
  {
   "cell_type": "code",
   "execution_count": null,
   "metadata": {
    "collapsed": true
   },
   "outputs": [],
   "source": [
    "#Exercise 7\n",
    "def computegrade(score):\n",
    "    if score > 1.0 or score < 0.0:\n",
    "        return(\"Bad Score\")\n",
    "    elif score >= 0.9:\n",
    "        return(\"A\")\n",
    "    elif score >= 0.8:\n",
    "        return (\"B\")\n",
    "    elif score >= 0.7:\n",
    "        return(\"C\")\n",
    "    elif score >= 0.6:\n",
    "        return(\"D\")\n",
    "    else:\n",
    "        return(\"F\")\n",
    "try:\n",
    "    score = float(input(\"Enter a score between 0.0 and 1.0: \"))\n",
    "    grade = computegrade(score)\n",
    "    print(grade)\n",
    "except:\n",
    "    print(\"Bad Score\")"
   ]
  },
  {
   "cell_type": "markdown",
   "metadata": {},
   "source": [
    "##### Chapter 5 Iterations"
   ]
  },
  {
   "cell_type": "code",
   "execution_count": null,
   "metadata": {
    "collapsed": true
   },
   "outputs": [],
   "source": [
    "#Exercise 1\n",
    "num = input(\"Enter a number: \")\n",
    "total = 0.0\n",
    "count = 0\n",
    "avg = 0.0\n",
    "while num != 'done':\n",
    "    try:\n",
    "        num1 = float(num)\n",
    "    except:\n",
    "        print(\"Invalid Input\")\n",
    "        num = input(\"Enter another number or Enter done if finished: \")\n",
    "        continue\n",
    "    total += num1\n",
    "    count += 1\n",
    "    num = input(\"Enter another number or Enter done if finished: \")\n",
    "avg = total / count\n",
    "print(\"Total is\", total, \"\\nCount is\", count, \"\\nAverage is\", avg )\n",
    "    "
   ]
  },
  {
   "cell_type": "code",
   "execution_count": null,
   "metadata": {
    "collapsed": true
   },
   "outputs": [],
   "source": [
    "#Exercise 2\n",
    "num = input(\"Enter a number: \")\n",
    "maximum = 0.0\n",
    "minimum = 0\n",
    "while num != 'done':\n",
    "    try:\n",
    "        num1 = float(num)\n",
    "    except:\n",
    "        print(\"Invalid Input\")\n",
    "        num = input(\"Enter another number or Enter done if finished: \")\n",
    "        continue\n",
    "    if num1 > maximum:\n",
    "        maximum = num1\n",
    "    elif num1 < minimum:\n",
    "        minimum = num1\n",
    "    num = input(\"Enter another number or Enter done if finished: \")\n",
    "print(\"Maximum is\", maximum, \"\\nMinimum is\", minimum)"
   ]
  },
  {
   "cell_type": "markdown",
   "metadata": {},
   "source": [
    "##### Chapter 6 Strings"
   ]
  },
  {
   "cell_type": "code",
   "execution_count": null,
   "metadata": {
    "collapsed": true
   },
   "outputs": [],
   "source": [
    "#Exercise 5\n",
    "str = \"X-DSPAM-Confidence:0.8475\"\n",
    "colpos = str.find(':')\n",
    "num = float(str[colpos + 1:])\n",
    "print (\"The Number in the string is %g\" % num)\n",
    "print (colpos)"
   ]
  },
  {
   "cell_type": "markdown",
   "metadata": {},
   "source": [
    "##### Chapter 7 Files"
   ]
  },
  {
   "cell_type": "code",
   "execution_count": null,
   "metadata": {
    "collapsed": true
   },
   "outputs": [],
   "source": [
    "#Exercise 1\n",
    "file = open(\"mbox-short.txt\")\n",
    "for line in file:\n",
    "    print (line.upper())\n",
    "#print(file)\n",
    "file.close()"
   ]
  },
  {
   "cell_type": "code",
   "execution_count": null,
   "metadata": {
    "collapsed": true
   },
   "outputs": [],
   "source": [
    "#Exercise 1\n",
    "file = open(\"C:\\\\Users\\\\ashish.sisodia\\\\Desktop\\\\Python\\\\Files\\\\mbox-short.txt\")\n",
    "fileread = file.read()\n",
    "print(fileread.upper())\n",
    "#print(file)\n",
    "file.close()"
   ]
  },
  {
   "cell_type": "code",
   "execution_count": null,
   "metadata": {
    "collapsed": true
   },
   "outputs": [],
   "source": [
    "#Exercise 1\n",
    "file = open(r\"C:\\Users\\ashish.sisodia\\Desktop\\Python\\Files\\mbox-short.txt\")\n",
    "fileread = file.read()\n",
    "print(fileread.upper())\n",
    "#print(file)\n",
    "file.close()"
   ]
  },
  {
   "cell_type": "code",
   "execution_count": null,
   "metadata": {
    "collapsed": true
   },
   "outputs": [],
   "source": [
    "#Exercise 2\n",
    "filename = input(\"Enter a Filename: \")\n",
    "while 1:\n",
    "    try:\n",
    "        #print(\"Test\")\n",
    "        file = open(filename)\n",
    "        break\n",
    "    except:\n",
    "        print (\"Not a Valid File name/ File not found\")\n",
    "        filename = input(\"Enter a Filename: \")\n",
    "        \n",
    "'''Not Working\n",
    "        else:\n",
    "            print(\"Exiting Program\")\n",
    "            exit()\n",
    "            \n",
    "'''\n",
    "count = 0\n",
    "avg = 0.0\n",
    "num = 0.0\n",
    "for line in file:\n",
    "    line = line.rstrip()\n",
    "    if line.startswith(\"X-DSPAM-Confidence\"):  \n",
    "        colpos = line.find(':')\n",
    "        #print (colpos)\n",
    "        #print (line)\n",
    "        num += float(line[colpos + 2:])\n",
    "        count += 1\n",
    "       # num = round(num,10)\n",
    "avg = round((num / count),10)\n",
    "print (\"The Total of Confidence is %g, Count is %d, and Average Confidence is %g\" % (num, count, avg))\n",
    "file.close()       \n"
   ]
  },
  {
   "cell_type": "markdown",
   "metadata": {},
   "source": [
    "##### Chapter 8 Lists"
   ]
  },
  {
   "cell_type": "code",
   "execution_count": null,
   "metadata": {},
   "outputs": [],
   "source": [
    "#Exercise 4\n",
    "filename = open(\"C:\\\\Users\\\\ashish.sisodia\\\\Desktop\\\\Python\\\\Files\\\\romeo.txt\")\n",
    "list_words = []\n",
    "for line in filename:\n",
    "    line = line.rstrip()\n",
    "    list_words_line = line.split()\n",
    "    for word in list_words_line:\n",
    "        if word in list_words:\n",
    "            continue\n",
    "        else:\n",
    "            list_words.append(word)\n",
    "list_words.sort()\n",
    "print (list_words)"
   ]
  },
  {
   "cell_type": "code",
   "execution_count": null,
   "metadata": {},
   "outputs": [],
   "source": [
    "#Exercise 5\n",
    "file = open(\"C:\\\\Users\\\\ashish.sisodia\\\\Desktop\\\\Python\\\\Files\\\\mbox-short.txt\")\n",
    "count = 0\n",
    "for line in file:\n",
    "    line = line.rstrip()\n",
    "    if line.startswith(\"From \"):\n",
    "        list_words = line.split()\n",
    "        print (list_words[1])\n",
    "        count += 1\n",
    "print (\"There were %d lines in the file with word From as the first word\" % count)\n",
    "    \n",
    "\n",
    "file.close()"
   ]
  },
  {
   "cell_type": "code",
   "execution_count": null,
   "metadata": {},
   "outputs": [],
   "source": [
    "#Exercise 6\n",
    "num = input(\"Enter a number: \")\n",
    "#maximum = 0.0\n",
    "#minimum = 0\n",
    "num_list = []\n",
    "while num != 'done':\n",
    "    try:\n",
    "        num1 = float(num)\n",
    "    except:\n",
    "        print(\"Invalid Input\")\n",
    "        num = input(\"Enter another number or Enter done if finished: \")\n",
    "        continue\n",
    "    num_list.append(num1)\n",
    "    num = input(\"Enter another number or Enter done if finished: \")\n",
    "maximum = max(num_list)\n",
    "minimum = min(num_list)\n",
    "print(\"Maximum is\", maximum, \"\\nMinimum is\", minimum)"
   ]
  },
  {
   "cell_type": "markdown",
   "metadata": {},
   "source": [
    "##### Chapter 9 Dictionaries"
   ]
  },
  {
   "cell_type": "code",
   "execution_count": null,
   "metadata": {},
   "outputs": [],
   "source": [
    "#Exercise 2\n",
    "file = open(\"C:\\\\Users\\\\ashish.sisodia\\\\Desktop\\\\Python\\\\Files\\\\mbox-short.txt\")\n",
    "d = dict()\n",
    "for line in file:\n",
    "    line = line.rstrip()\n",
    "    if line.startswith(\"From \"):\n",
    "        words_list = line.split()\n",
    "        weekday = words_list[2]\n",
    "        if weekday not in d:\n",
    "            d[weekday] = 1\n",
    "        else:\n",
    "            d[weekday] = d[weekday] + 1\n",
    "    \n",
    "print (d)  \n",
    "file.close()"
   ]
  },
  {
   "cell_type": "code",
   "execution_count": 17,
   "metadata": {},
   "outputs": [
    {
     "name": "stdout",
     "output_type": "stream",
     "text": [
      "{'stephen.marquard@uct.ac.za': 2, 'louis@media.berkeley.edu': 3, 'zqian@umich.edu': 4, 'rjlowe@iupui.edu': 2, 'cwen@iupui.edu': 5, 'gsilver@umich.edu': 3, 'wagnermr@iupui.edu': 1, 'antranig@caret.cam.ac.uk': 1, 'gopal.ramasammycook@gmail.com': 1, 'david.horwitz@uct.ac.za': 4, 'ray@media.berkeley.edu': 1}\n"
     ]
    }
   ],
   "source": [
    "#Exercise 3\n",
    "file = open(\"C:\\\\Users\\\\ashish.sisodia\\\\Desktop\\\\Python\\\\Files\\\\mbox-short.txt\")\n",
    "d = dict()\n",
    "for line in file:\n",
    "    line = line.rstrip()\n",
    "    if line.startswith(\"From \"):\n",
    "        words_list = line.split()\n",
    "        email = words_list[1]\n",
    "        if email not in d:\n",
    "            d[email] = 1\n",
    "        else:\n",
    "            d[email] = d[email] + 1\n",
    "    \n",
    "print (d)  \n",
    "file.close()"
   ]
  },
  {
   "cell_type": "code",
   "execution_count": 32,
   "metadata": {},
   "outputs": [
    {
     "name": "stdout",
     "output_type": "stream",
     "text": [
      "zqian@umich.edu 195\n",
      "jlrenfro@ucdavis.edu 1\n",
      "thoppaymallika@fhda.edu 1\n",
      "colin.clark@utoronto.ca 1\n"
     ]
    }
   ],
   "source": [
    "#Exercise 4\n",
    "file = open(\"C:\\\\Users\\\\ashish.sisodia\\\\Desktop\\\\Python\\\\Files\\\\mbox-short.txt\")\n",
    "max = 0\n",
    "min = 1\n",
    "max_key = []\n",
    "min_key = []\n",
    "d = dict()\n",
    "for line in file:\n",
    "    line = line.rstrip()\n",
    "    if line.startswith(\"From \"):\n",
    "        words_list = line.split()\n",
    "        email = words_list[1]\n",
    "        if email not in d:\n",
    "            d[email] = 1\n",
    "        else:\n",
    "            d[email] = d[email] + 1\n",
    "for key in d:\n",
    "    if d[key] > max:\n",
    "        max_key.append(key)\n",
    "        max = d[key]        \n",
    "    elif d[key] <= min:\n",
    "        min_key.append(key)\n",
    "        min = d[key]\n",
    "for key in max_key:\n",
    "    if d[key] == max:\n",
    "        print (key, d[key])\n",
    "for key in min_key:\n",
    "    if d[key] == min:\n",
    "        print (key, d[key])\n",
    "file.close()"
   ]
  },
  {
   "cell_type": "code",
   "execution_count": 34,
   "metadata": {},
   "outputs": [
    {
     "name": "stdout",
     "output_type": "stream",
     "text": [
      "{'uct.ac.za': 6, 'media.berkeley.edu': 4, 'umich.edu': 7, 'iupui.edu': 8, 'caret.cam.ac.uk': 1, 'gmail.com': 1}\n"
     ]
    }
   ],
   "source": [
    "#Exercise 5\n",
    "file = open(\"C:\\\\Users\\\\ashish.sisodia\\\\Desktop\\\\Python\\\\Files\\\\mbox-short.txt\")\n",
    "d = dict()\n",
    "for line in file:\n",
    "    line = line.rstrip()\n",
    "    if line.startswith(\"From \"):\n",
    "        words_list = line.split()\n",
    "        email = words_list[1]\n",
    "        domain = email.split(\"@\")\n",
    "        temp = domain[1]\n",
    "        if temp not in d:\n",
    "            d[temp] = 1\n",
    "        else:\n",
    "            d[temp] = d[temp] + 1\n",
    "    \n",
    "print (d)  \n",
    "file.close()"
   ]
  },
  {
   "cell_type": "markdown",
   "metadata": {},
   "source": [
    "##### Chapter 10 Tuples"
   ]
  },
  {
   "cell_type": "code",
   "execution_count": 35,
   "metadata": {},
   "outputs": [
    {
     "name": "stdout",
     "output_type": "stream",
     "text": [
      "1 2\n",
      "2 1\n"
     ]
    }
   ],
   "source": [
    "a,b = 1,2\n",
    "print(a,b)\n",
    "a,b = b,a\n",
    "print(a,b)"
   ]
  },
  {
   "cell_type": "code",
   "execution_count": null,
   "metadata": {
    "collapsed": true
   },
   "outputs": [],
   "source": []
  }
 ],
 "metadata": {
  "kernelspec": {
   "display_name": "Python 3",
   "language": "python",
   "name": "python3"
  },
  "language_info": {
   "codemirror_mode": {
    "name": "ipython",
    "version": 3
   },
   "file_extension": ".py",
   "mimetype": "text/x-python",
   "name": "python",
   "nbconvert_exporter": "python",
   "pygments_lexer": "ipython3",
   "version": "3.6.3"
  }
 },
 "nbformat": 4,
 "nbformat_minor": 2
}
