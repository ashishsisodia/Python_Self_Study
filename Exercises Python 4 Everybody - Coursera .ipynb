{
 "cells": [
  {
   "cell_type": "markdown",
   "metadata": {},
   "source": [
    "##### Chapter 2 Variables, expressions and statements"
   ]
  },
  {
   "cell_type": "code",
   "execution_count": null,
   "metadata": {
    "collapsed": true
   },
   "outputs": [],
   "source": [
    "'''\n",
    "Exercise 1\n",
    "Type the following statements in the Python interpreter to see what\n",
    "they do.\n",
    "'''\n",
    "5\n",
    "x = 5\n",
    "x + 1"
   ]
  },
  {
   "cell_type": "code",
   "execution_count": null,
   "metadata": {
    "collapsed": true
   },
   "outputs": [],
   "source": [
    "'''\n",
    "Exercise 2\n",
    "Write a program that uses input to prompt a user for their name and\n",
    "then welcomes them.\n",
    "'''\n",
    "name = input(\"Enter your name: \")\n",
    "print (\"Hello\", name)"
   ]
  },
  {
   "cell_type": "code",
   "execution_count": null,
   "metadata": {
    "collapsed": true
   },
   "outputs": [],
   "source": [
    "'''\n",
    "Exercise 3\n",
    "Write a program to prompt the user for hours and rate per hour to\n",
    "compute gross pay.\n",
    "'''\n",
    "hrs = input(\"Enter Hours: \")\n",
    "rate = input(\"Enter Rate: \")\n",
    "pay = float(hrs) * float(rate)\n",
    "print (pay)"
   ]
  },
  {
   "cell_type": "code",
   "execution_count": null,
   "metadata": {
    "collapsed": true
   },
   "outputs": [],
   "source": [
    "'''\n",
    "Exercise 4\n",
    "Assume that we execute the following assignment statements:\n",
    "width = 17\n",
    "height = 12.0\n",
    "'''\n",
    "width = 17\n",
    "height = 13.0\n",
    "print(width//2)\n",
    "print(width//2.0)\n",
    "print(width/2)\n",
    "print(width/2.0)\n",
    "print(width%2.0)\n",
    "print(width%2)\n",
    "print(height//2)\n",
    "print(height//2.0)\n",
    "print(height/2)\n",
    "print(height/2.0)\n",
    "print(height%2)\n",
    "print(height%2.0)"
   ]
  },
  {
   "cell_type": "code",
   "execution_count": null,
   "metadata": {
    "collapsed": true
   },
   "outputs": [],
   "source": [
    "'''\n",
    "Exercise 5\n",
    "Write a program which prompts the user for a Celsius temperature,\n",
    "convert the temperature to Fahrenheit, and print out the converted temperature.\n",
    "'''\n",
    "temp_c = input(\"Temp in Celsius: \")\n",
    "temp_f = float(temp_c) * 1.8 + 32\n",
    "print (\"Temp in Fahrenheit is\", temp_f)"
   ]
  },
  {
   "cell_type": "markdown",
   "metadata": {},
   "source": [
    "##### Chapter 3 Conditional Execution"
   ]
  },
  {
   "cell_type": "code",
   "execution_count": null,
   "metadata": {
    "collapsed": true
   },
   "outputs": [],
   "source": [
    "'''\n",
    "Exercise 1\n",
    "Rewrite your pay computation to give the employee 1.5 times the\n",
    "hourly rate for hours worked above 40 hours.\n",
    "Exercise 2\n",
    "Rewrite your pay program using try and except so that your program\n",
    "handles non-numeric input gracefully by printing a message and exiting the\n",
    "program.\n",
    "'''\n",
    "#Exercise 1, 2\n",
    "try:\n",
    "    hrs = float(input(\"Enter Hours: \"))\n",
    "    rate = float(input(\"Enter Rate: \"))\n",
    "    if hrs <= 40:\n",
    "        pay = hrs * rate\n",
    "    else:\n",
    "        pay = ((hrs -40) * rate * 1.5) + (40 * rate)\n",
    "    print (pay)\n",
    "except:\n",
    "    print(\"Please enter numeric input\")\n",
    "    "
   ]
  },
  {
   "cell_type": "code",
   "execution_count": null,
   "metadata": {
    "collapsed": true
   },
   "outputs": [],
   "source": [
    "'''\n",
    "Exercise 3: Write a program to prompt for a score between 0.0 and 1.0. If the\n",
    "score is out of range, print an error message. If the score is between 0.0 and 1.0,\n",
    "print a grade using the following table:\n",
    "Score Grade\n",
    ">= 0.9 A\n",
    ">= 0.8 B\n",
    ">= 0.7 C\n",
    ">= 0.6\n",
    "'''\n",
    "try:\n",
    "    score = float(input(\"Enter a score between 0.0 and 1.0: \"))\n",
    "    if score > 1.0 or score < 0.0:\n",
    "        print(\"Bad Score\")\n",
    "    elif score >= 0.9:\n",
    "        print(\"A\")\n",
    "    elif score >= 0.8:\n",
    "        print (\"B\")\n",
    "    elif score >= 0.7:\n",
    "        print(\"C\")\n",
    "    elif score >= 0.6:\n",
    "        print(\"D\")\n",
    "    else:\n",
    "        print(\"F\")\n",
    "except:\n",
    "    print(\"Bad Score\")"
   ]
  },
  {
   "cell_type": "markdown",
   "metadata": {},
   "source": [
    "##### Chapter 4 Functions"
   ]
  },
  {
   "cell_type": "code",
   "execution_count": null,
   "metadata": {
    "collapsed": true
   },
   "outputs": [],
   "source": [
    "#Practice 1\n",
    "import random\n",
    "for i in range(10):\n",
    "    x = random.random()\n",
    "    print(x)"
   ]
  },
  {
   "cell_type": "code",
   "execution_count": null,
   "metadata": {
    "collapsed": true
   },
   "outputs": [],
   "source": [
    "'''\n",
    "Exercise 1: Run the program on your system and see what numbers you get. Run\n",
    "the program more than once and see what numbers you get.\n",
    "'''\n",
    "random.randint(5, 10)"
   ]
  },
  {
   "cell_type": "code",
   "execution_count": null,
   "metadata": {
    "collapsed": true
   },
   "outputs": [],
   "source": [
    "#Practice 2\n",
    "t = [1,2,3,4,5]\n",
    "random.choice(t)\n",
    "\n",
    "'''\n",
    "The random module also provides functions to generate random values from continuous\n",
    "distributions including Gaussian, exponential, gamma, and a few more.\n",
    "'''"
   ]
  },
  {
   "cell_type": "code",
   "execution_count": null,
   "metadata": {
    "collapsed": true
   },
   "outputs": [],
   "source": [
    "#Practice 3\n",
    "import math\n",
    "i = math.log10(2.1) \n",
    "print (i)\n",
    "\n",
    "radians = 0.7\n",
    "height = math.sin(radians)\n",
    "print (height)\n",
    "\n",
    "i = math.pi\n",
    "print (i)\n",
    "j = math.sqrt(24)\n",
    "print (j)\n",
    "print(math)"
   ]
  },
  {
   "cell_type": "code",
   "execution_count": null,
   "metadata": {
    "collapsed": true
   },
   "outputs": [],
   "source": [
    "'''\n",
    "Exercise 2: Move the last line of this program to the top, so the function call\n",
    "appears before the definitions. Run the program and see what error message you\n",
    "get.\n",
    "Exercise 3: Move the function call back to the bottom and move the definition of\n",
    "print_lyrics after the definition of repeat_lyrics.\n",
    "'''\n",
    "def repeat_lyrics():\n",
    "    print_lyrics()\n",
    "    print_lyrics()\n",
    "    \n",
    "def print_lyrics():\n",
    "    print(\"I'm a lumberjack, and I'm okay.\")\n",
    "    print('I sleep all night and I work all day.')\n",
    "\n",
    "repeat_lyrics()"
   ]
  },
  {
   "cell_type": "code",
   "execution_count": null,
   "metadata": {
    "collapsed": true
   },
   "outputs": [],
   "source": [
    "'''\n",
    "Exercise 6: Rewrite your pay computation with time-and-a-half for overtime and\n",
    "create a function called computepay which takes two parameters (hours and rate).\n",
    "'''\n",
    "def computepay(hours, rate):\n",
    "    if hours > 40:\n",
    "        pay = 40 * rate + (hours - 40) * rate * 1.5\n",
    "    else:\n",
    "        pay = hours * rate\n",
    "    return pay\n",
    "try:\n",
    "    hrs = float(input(\"Enter Hours worked: \"))\n",
    "    rate = float(input(\"Enter Rate: \"))\n",
    "    pay = computepay(hrs, rate)\n",
    "    print (pay)\n",
    "except:\n",
    "    print(\"Enter Numeric Values\")"
   ]
  },
  {
   "cell_type": "code",
   "execution_count": null,
   "metadata": {
    "collapsed": true
   },
   "outputs": [],
   "source": [
    "'''\n",
    "Exercise 7: Rewrite the grade program from the previous chapter using a function\n",
    "called computegrade that takes a score as its parameter and returns a grade as a\n",
    "string.\n",
    "Score Grade\n",
    "> 0.9 A\n",
    "> 0.8 B\n",
    "> 0.7 C\n",
    "> 0.6 D\n",
    "<= 0.6 F\n",
    "'''\n",
    "def computegrade(score):\n",
    "    if score > 1.0 or score < 0.0:\n",
    "        return(\"Bad Score\")\n",
    "    elif score >= 0.9:\n",
    "        return(\"A\")\n",
    "    elif score >= 0.8:\n",
    "        return (\"B\")\n",
    "    elif score >= 0.7:\n",
    "        return(\"C\")\n",
    "    elif score >= 0.6:\n",
    "        return(\"D\")\n",
    "    else:\n",
    "        return(\"F\")\n",
    "try:\n",
    "    score = float(input(\"Enter a score between 0.0 and 1.0: \"))\n",
    "    grade = computegrade(score)\n",
    "    print(grade)\n",
    "except:\n",
    "    print(\"Bad Score\")"
   ]
  },
  {
   "cell_type": "markdown",
   "metadata": {},
   "source": [
    "##### Chapter 5 Iterations"
   ]
  },
  {
   "cell_type": "code",
   "execution_count": null,
   "metadata": {
    "collapsed": true
   },
   "outputs": [],
   "source": [
    "#Practice 1\n",
    "while True:\n",
    "    line = input('> ')\n",
    "    if line == 'done':\n",
    "        break\n",
    "    print(line)\n",
    "print('Done!')"
   ]
  },
  {
   "cell_type": "code",
   "execution_count": null,
   "metadata": {
    "collapsed": true
   },
   "outputs": [],
   "source": [
    "#Practice 2\n",
    "while True:\n",
    "    line = input('> ')\n",
    "    if line[0] == '#':\n",
    "        continue\n",
    "    if line == 'done':\n",
    "        break\n",
    "    print(line)\n",
    "print('Done!')"
   ]
  },
  {
   "cell_type": "code",
   "execution_count": null,
   "metadata": {
    "collapsed": true
   },
   "outputs": [],
   "source": [
    "'''\n",
    "Exercise 1: Write a program which repeatedly reads numbers until the user enters\n",
    "“done”. Once “done” is entered, print out the total, count, and average of the\n",
    "numbers. If the user enters anything other than a number, detect their mistake\n",
    "using try and except and print an error message and skip to the next number.\n",
    "'''\n",
    "num = input(\"Enter a number: \")\n",
    "total = 0.0\n",
    "count = 0\n",
    "avg = 0.0\n",
    "while num != 'done':\n",
    "    try:\n",
    "        num1 = float(num)\n",
    "    except:\n",
    "        print(\"Invalid Input\")\n",
    "        num = input(\"Enter another number or Enter done if finished: \")\n",
    "        continue\n",
    "    total += num1\n",
    "    count += 1\n",
    "    num = input(\"Enter another number or Enter done if finished: \")\n",
    "avg = total / count\n",
    "print(\"Total is\", total, \"\\nCount is\", count, \"\\nAverage is\", avg )\n",
    "    "
   ]
  },
  {
   "cell_type": "code",
   "execution_count": null,
   "metadata": {
    "collapsed": true
   },
   "outputs": [],
   "source": [
    "'''\n",
    "Exercise 2: Write another program that prompts for a list of numbers as above\n",
    "and at the end prints out both the maximum and minimum of the numbers instead\n",
    "of the average.\n",
    "'''\n",
    "num = input(\"Enter a number: \")\n",
    "maximum = None\n",
    "minimum = None\n",
    "while num != 'done':\n",
    "    try:\n",
    "        num1 = float(num)\n",
    "    except:\n",
    "        print(\"Invalid Input\")\n",
    "        num = input(\"Enter another number or Enter done if finished: \")\n",
    "        continue\n",
    "    if maximum == None or num1 > maximum:\n",
    "        maximum = num1\n",
    "    elif minimum == None or num1 < minimum:\n",
    "        minimum = num1\n",
    "    num = input(\"Enter another number or Enter done if finished: \")\n",
    "print(\"Maximum is\", maximum, \"\\nMinimum is\", minimum)"
   ]
  },
  {
   "cell_type": "code",
   "execution_count": null,
   "metadata": {
    "collapsed": true
   },
   "outputs": [],
   "source": [
    "'''\n",
    "Exercise 2: Write another program that prompts for a list of numbers as above\n",
    "and at the end prints out both the maximum and minimum of the numbers instead\n",
    "of the average.\n",
    "'''\n",
    "def max_min():\n",
    "    num = input(\"Enter a number: \")\n",
    "    maximum = None\n",
    "    minimum = None\n",
    "    while num != 'done':\n",
    "        try:\n",
    "            num1 = float(num)\n",
    "        except:\n",
    "            print(\"Invalid Input\")\n",
    "            num = input(\"Enter another number or Enter done if finished: \")\n",
    "            continue\n",
    "        if maximum == None or num1 > maximum:\n",
    "            maximum = num1\n",
    "        elif minimum == None or num1 < minimum:\n",
    "            minimum = num1\n",
    "        num = input(\"Enter another number or Enter done if finished: \")\n",
    "    print(\"Maximum is\", maximum, \"\\nMinimum is\", minimum)\n",
    "    return (maximum, minimum)\n",
    "max,min = max_min()\n",
    "print (\"Testing Tuple\")\n",
    "print (min, max)"
   ]
  },
  {
   "cell_type": "markdown",
   "metadata": {},
   "source": [
    "### Chapter 6 Strings"
   ]
  },
  {
   "cell_type": "code",
   "execution_count": null,
   "metadata": {
    "collapsed": true
   },
   "outputs": [],
   "source": [
    "#Practice 1\n",
    "fruit = 'pineapple'\n",
    "length = len(fruit)\n",
    "print (fruit[length - 1])\n",
    "print ('negative index')\n",
    "print (fruit[-1])\n",
    "print ('string slice')\n",
    "print (fruit[3:length - 1])\n",
    "print (fruit[3:])\n",
    "print (fruit[length - 3:])\n",
    "print (fruit[:length - 2])\n",
    "print ('slice using negative index')\n",
    "print (fruit[3:-1])\n",
    "print (fruit[3:])\n",
    "print (fruit[-3:])\n",
    "print (fruit[:-2])"
   ]
  },
  {
   "cell_type": "code",
   "execution_count": null,
   "metadata": {
    "collapsed": true
   },
   "outputs": [],
   "source": [
    "'''\n",
    "Exercise 5: Take the following Python code that stores a string:‘\n",
    "str = ’X-DSPAM-Confidence:0.8475’\n",
    "Use find and string slicing to extract the portion of the string after the colon\n",
    "character and then use the float function to convert the extracted string into a\n",
    "floating point number.\n",
    "'''\n",
    "str = \"X-DSPAM-Confidence:0.8475\"\n",
    "colpos = str.find(':')\n",
    "num = float(str[colpos + 1:])\n",
    "print (\"The Number in the string is %g\" % num)\n",
    "print (colpos)"
   ]
  },
  {
   "cell_type": "markdown",
   "metadata": {},
   "source": [
    "##### Chapter 7 Files"
   ]
  },
  {
   "cell_type": "code",
   "execution_count": null,
   "metadata": {
    "collapsed": true
   },
   "outputs": [],
   "source": [
    "'''\n",
    "Exercise 1: Write a program to read through a file and print the contents of the\n",
    "file (line by line) all in upper case.\n",
    "'''\n",
    "file = open(\"mbox-short.txt\")\n",
    "for line in file:\n",
    "    print (line.upper())\n",
    "#print(file)\n",
    "file.close()"
   ]
  },
  {
   "cell_type": "code",
   "execution_count": null,
   "metadata": {
    "collapsed": true
   },
   "outputs": [],
   "source": [
    "'''\n",
    "Exercise 1: Write a program to read through a file and print the contents of the\n",
    "file (line by line) all in upper case.\n",
    "'''\n",
    "file = open(\"C:\\\\Users\\\\ashish.sisodia\\\\Desktop\\\\Python\\\\Files\\\\mbox-short.txt\")\n",
    "fileread = file.read()\n",
    "print(fileread.upper())\n",
    "#print(file)\n",
    "file.close()"
   ]
  },
  {
   "cell_type": "code",
   "execution_count": null,
   "metadata": {
    "collapsed": true
   },
   "outputs": [],
   "source": [
    "'''\n",
    "Exercise 1: Write a program to read through a file and print the contents of the\n",
    "file (line by line) all in upper case.\n",
    "'''\n",
    "file = open(r\"C:\\Users\\ashish.sisodia\\Desktop\\Python\\Files\\mbox-short.txt\")\n",
    "fileread = file.read()\n",
    "print(fileread.upper())\n",
    "#print(file)\n",
    "file.close()"
   ]
  },
  {
   "cell_type": "code",
   "execution_count": null,
   "metadata": {
    "collapsed": true
   },
   "outputs": [],
   "source": [
    "'''\n",
    "Exercise 2: Write a program to prompt for a file name, and then read through the\n",
    "file and look for lines of the form:\n",
    "'''\n",
    "filename = input(\"Enter a Filename: \")\n",
    "while 1:\n",
    "    try:\n",
    "        #print(\"Test\")\n",
    "        file = open(filename)\n",
    "        break\n",
    "    except:\n",
    "        print (\"Not a Valid File name/ File not found\")\n",
    "        filename = input(\"Enter a Filename: \")\n",
    "        \n",
    "        \n",
    "'''Not Working\n",
    "        else:\n",
    "            print(\"Exiting Program\")\n",
    "            exit()\n",
    "            \n",
    "'''\n",
    "count = 0\n",
    "avg = 0.0\n",
    "num = 0.0\n",
    "for line in file:\n",
    "    line = line.rstrip()\n",
    "    if line.startswith(\"X-DSPAM-Confidence\"):  \n",
    "        colpos = line.find(':')\n",
    "        #print (colpos)\n",
    "        #print (line)\n",
    "        num += float(line[colpos + 2:])\n",
    "        count += 1\n",
    "       # num = round(num,10)\n",
    "avg = round((num / count),10)\n",
    "print (\"The Total of Confidence is %g, Count is %d, and Average Confidence is %g\" % (num, count, avg))\n",
    "file.close()       \n"
   ]
  },
  {
   "cell_type": "markdown",
   "metadata": {},
   "source": [
    "##### Chapter 8 Lists"
   ]
  },
  {
   "cell_type": "code",
   "execution_count": null,
   "metadata": {
    "collapsed": true
   },
   "outputs": [],
   "source": [
    "'''\n",
    "Exercise 1:\n",
    "Write a function called chop that takes a list and modifies it, removing the first\n",
    "and last elements, and returns None.\n",
    "'''\n",
    "def list_func(lst):\n",
    "    del lst[0]\n",
    "    del lst[-1]\n",
    "def list_func2(lst):\n",
    "    t = lst[1:-1]\n",
    "    return (t)\n",
    "lst1 = [1,2,3,4]\n",
    "lst2 = [1,2,3,4]\n",
    "list_func(lst1)\n",
    "print (lst1)\n",
    "t1 = list_func2(lst2)\n",
    "print (lst2)\n",
    "print (t1)"
   ]
  },
  {
   "cell_type": "code",
   "execution_count": null,
   "metadata": {
    "collapsed": true
   },
   "outputs": [],
   "source": [
    "'''\n",
    "Exercise 4: Write a program to open the file romeo.txt and read it line by line. For each line,\n",
    "split the line into a list of words using the split function.\n",
    "For each word, check to see if the word is already in a list. If the word is not in\n",
    "the list, add it to the list.\n",
    "When the\n",
    "'''\n",
    "filename = open(\"C:\\\\Users\\\\ashish.sisodia\\\\Desktop\\\\Python\\\\Files\\\\romeo.txt\")\n",
    "list_words = []\n",
    "for line in filename:\n",
    "    line = line.rstrip()\n",
    "    list_words_line = line.split()\n",
    "    for word in list_words_line:\n",
    "        if word in list_words:\n",
    "            continue\n",
    "        else:\n",
    "            list_words.append(word)\n",
    "list_words.sort()\n",
    "print (list_words)"
   ]
  },
  {
   "cell_type": "code",
   "execution_count": null,
   "metadata": {
    "collapsed": true
   },
   "outputs": [],
   "source": [
    "'''\n",
    "Exercise 5: Write a program to read through the mail box data and when you\n",
    "find line that starts with “From”, you will split the line into words using the split\n",
    "function. We are interested in who sent the message, which is the second word on\n",
    "the From line.\n",
    "From stephen.marquard@uct.ac.za Sat Jan 5 09:14:16 2008\n",
    "You will parse the From line and print out the second word for each From line,\n",
    "then you will also\n",
    "'''\n",
    "file = open(\"C:\\\\Users\\\\ashish.sisodia\\\\Desktop\\\\Python\\\\Files\\\\mbox-short.txt\")\n",
    "count = 0\n",
    "for line in file:\n",
    "    line = line.rstrip()\n",
    "    if line.startswith(\"From \"):\n",
    "        list_words = line.split()\n",
    "        print (list_words[1])\n",
    "        count += 1\n",
    "print (\"There were %d lines in the file with word From as the first word\" % count)\n",
    "    \n",
    "\n",
    "file.close()"
   ]
  },
  {
   "cell_type": "code",
   "execution_count": null,
   "metadata": {
    "collapsed": true
   },
   "outputs": [],
   "source": [
    "'''\n",
    "Exercise 6: Rewrite the program that prompts the user for a list of numbers and\n",
    "prints out the maximum and minimum of the numbers at the end when the user\n",
    "enters “done”. Write the program to store the numbers the user enters in a list\n",
    "and use the max() and min() functions to compute the maximum and minimum\n",
    "numbers after the loop completes.\n",
    "'''\n",
    "num = input(\"Enter a number: \")\n",
    "#maximum = 0.0\n",
    "#minimum = 0\n",
    "num_list = []\n",
    "while num != 'done':\n",
    "    try:\n",
    "        num1 = float(num)\n",
    "    except:\n",
    "        print(\"Invalid Input\")\n",
    "        num = input(\"Enter another number or Enter done if finished: \")\n",
    "        continue\n",
    "    num_list.append(num1)\n",
    "    num = input(\"Enter another number or Enter done if finished: \")\n",
    "maximum = max(num_list)\n",
    "minimum = min(num_list)\n",
    "print(\"Maximum is\", maximum, \"\\nMinimum is\", minimum)"
   ]
  },
  {
   "cell_type": "markdown",
   "metadata": {},
   "source": [
    "##### Chapter 9 Dictionaries"
   ]
  },
  {
   "cell_type": "code",
   "execution_count": null,
   "metadata": {
    "collapsed": true
   },
   "outputs": [],
   "source": [
    "#Practice 1\n",
    "word = 'brontosaurus'\n",
    "d = dict()\n",
    "for c in word:\n",
    "    d[c] = d.get(c,0) + 1\n",
    "print(d)"
   ]
  },
  {
   "cell_type": "code",
   "execution_count": null,
   "metadata": {},
   "outputs": [],
   "source": [
    "#Practice 2\n",
    "import string\n",
    "fname = input('Enter the file name: ')\n",
    "try:\n",
    "    fhand = open(fname)\n",
    "except:\n",
    "    print('File cannot be opened:', fname)\n",
    "    exit()\n",
    "counts = dict()\n",
    "for line in fhand:\n",
    "    line = line.rstrip()\n",
    "    line = line.translate(line.maketrans('', '', string.punctuation))\n",
    "    line = line.lower()\n",
    "    words = line.split()\n",
    "    for word in words:\n",
    "        if word not in counts:\n",
    "            counts[word] = 1\n",
    "        else:\n",
    "            counts[word] += 1\n",
    "print(counts)"
   ]
  },
  {
   "cell_type": "code",
   "execution_count": null,
   "metadata": {
    "collapsed": true
   },
   "outputs": [],
   "source": [
    "'''\n",
    "Exercise 2: Write a program that categorizes each mail message by which day of\n",
    "the week the commit was done. To do this look for lines that start with “From”,\n",
    "then look for the third word and keep a running count of each of the days of the\n",
    "week. At the end of the program print out the contents of your dictionary (order\n",
    "does not matter).\n",
    "'''\n",
    "file = open(\"C:\\\\Users\\\\ashish.sisodia\\\\Desktop\\\\Python\\\\Files\\\\mbox-short.txt\")\n",
    "d = dict()\n",
    "for line in file:\n",
    "    line = line.rstrip()\n",
    "    if line.startswith(\"From \"):\n",
    "        words_list = line.split()\n",
    "        weekday = words_list[2]\n",
    "        if weekday not in d:\n",
    "            d[weekday] = 1\n",
    "        else:\n",
    "            d[weekday] = d[weekday] + 1\n",
    "    \n",
    "print (d) \n",
    "file.close()"
   ]
  },
  {
   "cell_type": "code",
   "execution_count": null,
   "metadata": {
    "collapsed": true
   },
   "outputs": [],
   "source": [
    "'''\n",
    "Exercise 2: Write a program that categorizes each mail message by which day of\n",
    "the week the commit was done. To do this look for lines that start with “From”,\n",
    "then look for the third word and keep a running count of each of the days of the\n",
    "week. At the end of the program print out the contents of your dictionary (order\n",
    "does not matter).\n",
    "'''\n",
    "file = open(\"C:\\\\Users\\\\ashish.sisodia\\\\Desktop\\\\Python\\\\Files\\\\mbox-short.txt\")\n",
    "d = dict()\n",
    "for line in file:\n",
    "    line = line.rstrip()\n",
    "    if line.startswith(\"From \"):\n",
    "        words_list = line.split()\n",
    "        weekday = words_list[2]\n",
    "        d[weekday] = d.get(weekday, 0) + 1\n",
    "    \n",
    "for key in d:\n",
    "    print (key, d[key])\n",
    "lst = list(d.keys())\n",
    "lst.sort()\n",
    "print()\n",
    "print(lst)\n",
    "for key in lst:\n",
    "    print (key, d[key])\n",
    "file.close()"
   ]
  },
  {
   "cell_type": "code",
   "execution_count": null,
   "metadata": {
    "collapsed": true
   },
   "outputs": [],
   "source": [
    "'''\n",
    "Exercise 3: Write a program to read through a mail log, build a histogram using\n",
    "a dictionary to count how many messages have come from each email address, and\n",
    "print the dictionary.\n",
    "'''\n",
    "file = open(\"C:\\\\Users\\\\ashish.sisodia\\\\Desktop\\\\Python\\\\Files\\\\mbox-short.txt\")\n",
    "d = dict()\n",
    "for line in file:\n",
    "    line = line.rstrip()\n",
    "    if line.startswith(\"From \"):\n",
    "        words_list = line.split()\n",
    "        email = words_list[1]\n",
    "        if email not in d:\n",
    "            d[email] = 1\n",
    "        else:\n",
    "            d[email] = d[email] + 1\n",
    "    \n",
    "print (d)  \n",
    "file.close()"
   ]
  },
  {
   "cell_type": "code",
   "execution_count": null,
   "metadata": {
    "collapsed": true
   },
   "outputs": [],
   "source": [
    "'''\n",
    "Exercise 4: Add code to the above program to figure out who has the most\n",
    "messages in the file.\n",
    "After all the data has been read and the dictionary has been created, look through\n",
    "the dictionary using a maximum loop (see Section [maximumloop]) to find who\n",
    "has the most messages and print how many messages the person has.\n",
    "'''\n",
    "file = open(\"C:\\\\Users\\\\ashish.sisodia\\\\Desktop\\\\Python\\\\Files\\\\mbox-short.txt\")\n",
    "max = 0\n",
    "min = 1\n",
    "max_key = []\n",
    "min_key = []\n",
    "d = dict()\n",
    "for line in file:\n",
    "    line = line.rstrip()\n",
    "    if line.startswith(\"From \"):\n",
    "        words_list = line.split()\n",
    "        email = words_list[1]\n",
    "        if email not in d:\n",
    "            d[email] = 1\n",
    "        else:\n",
    "            d[email] = d[email] + 1\n",
    "for key in d:\n",
    "    if d[key] > max:\n",
    "        max_key.append(key)\n",
    "        max = d[key]        \n",
    "    elif d[key] <= min:\n",
    "        min_key.append(key)\n",
    "        min = d[key]\n",
    "for key in max_key:\n",
    "    if d[key] == max:\n",
    "        print (key, d[key])\n",
    "for key in min_key:\n",
    "    if d[key] == min:\n",
    "        print (key, d[key])\n",
    "file.close()"
   ]
  },
  {
   "cell_type": "code",
   "execution_count": null,
   "metadata": {
    "collapsed": true
   },
   "outputs": [],
   "source": [
    "'''\n",
    "Exercise 5: This program records the domain name (instead of the address) where\n",
    "the message was sent from instead of who the mail came from (i.e., the whole email\n",
    "address). At the end of the program, print out the contents of your dictionary.\n",
    "'''\n",
    "file = open(\"C:\\\\Users\\\\ashish.sisodia\\\\Desktop\\\\Python\\\\Files\\\\mbox-short.txt\")\n",
    "d = dict()\n",
    "for line in file:\n",
    "    line = line.rstrip()\n",
    "    if line.startswith(\"From \"):\n",
    "        words_list = line.split()\n",
    "        email = words_list[1]\n",
    "        domain = email.split(\"@\")\n",
    "        temp = domain[1]\n",
    "        if temp not in d:\n",
    "            d[temp] = 1\n",
    "        else:\n",
    "            d[temp] = d[temp] + 1\n",
    "    \n",
    "print (d)  \n",
    "file.close()"
   ]
  },
  {
   "cell_type": "markdown",
   "metadata": {},
   "source": [
    "##### Chapter 10 Tuples"
   ]
  },
  {
   "cell_type": "code",
   "execution_count": null,
   "metadata": {
    "collapsed": true
   },
   "outputs": [],
   "source": [
    "#Practice 1\n",
    "a,b = 1,2\n",
    "print(a,b)\n",
    "a,b = b,a\n",
    "print(a,b)"
   ]
  },
  {
   "cell_type": "code",
   "execution_count": null,
   "metadata": {
    "collapsed": true
   },
   "outputs": [],
   "source": [
    "#Practice 2\n",
    "d = {'a':10, 'b':1, 'c':22}\n",
    "t = list(d.items())\n",
    "t1 = list(d.keys())\n",
    "t2 = list(d.values())\n",
    "print(t)\n",
    "print (t1)\n",
    "print (t2)"
   ]
  },
  {
   "cell_type": "code",
   "execution_count": null,
   "metadata": {},
   "outputs": [],
   "source": [
    "#Practice 3\n",
    "import string\n",
    "fhand = open('C:\\\\Users\\\\ashish.sisodia\\\\Desktop\\\\Python\\\\Files\\\\romeo-full.txt')\n",
    "counts = dict()\n",
    "for line in fhand:\n",
    "    line = line.translate(str.maketrans('', '', string.punctuation))\n",
    "    line = line.lower()\n",
    "    words = line.split()\n",
    "    for word in words:\n",
    "        if word not in counts:\n",
    "            counts[word] = 1\n",
    "        else:\n",
    "            counts[word] += 1\n",
    "# Sort the dictionary by value\n",
    "lst = list()\n",
    "for key, val in list(counts.items()):\n",
    "    lst.append((val, key))\n",
    "    lst.sort(reverse=True)\n",
    "for key, val in lst[:10]:\n",
    "    print(val, key)\n",
    "fhand.close()"
   ]
  },
  {
   "cell_type": "code",
   "execution_count": null,
   "metadata": {
    "collapsed": true
   },
   "outputs": [],
   "source": [
    "'''\n",
    "Exercise 1: Revise a previous program as follows: Read and parse the “From”\n",
    "lines and pull out the addresses from the line. Count the number of messages from\n",
    "each person using a dictionary.\n",
    "After all the data has been read, print the person with the most commits by\n",
    "creating a list of (count, email) tuples from the dictionary. Then sort the list in\n",
    "reverse order and print out the person who has the most commits.\n",
    "'''\n",
    "file = open(\"C:\\\\Users\\\\ashish.sisodia\\\\Desktop\\\\Python\\\\Files\\\\mbox-short.txt\")\n",
    "d = dict()\n",
    "for line in file:\n",
    "    line = line.rstrip()\n",
    "    if line.startswith(\"From \"):\n",
    "        words_list = line.split()\n",
    "        email = words_list[1]\n",
    "        #domain = email.split(\"@\")\n",
    "        #temp = domain[1]\n",
    "        temp = email\n",
    "        d[temp] = d.get(temp,0)+1\n",
    "        \n",
    "lst = list()\n",
    "for key, val in list(d.items()):\n",
    "    lst.append((val, key))\n",
    "    lst.sort(reverse=True)\n",
    "for key, val in lst[:1]:\n",
    "    print(key, val)\n",
    "            \n",
    "lst = list(d.keys())\n",
    "lst.sort()\n",
    "print()\n",
    "for key in lst:\n",
    "    print (key,d[key])\n",
    "file.close()"
   ]
  },
  {
   "cell_type": "code",
   "execution_count": null,
   "metadata": {
    "collapsed": true
   },
   "outputs": [],
   "source": [
    "'''\n",
    "Exercise 1: Revise a previous program as follows: Read and parse the “From”\n",
    "lines and pull out the addresses from the line. Count the number of messages from\n",
    "each person using a dictionary.\n",
    "After all the data has been read, print the person with the most commits by\n",
    "creating a list of (count, email) tuples from the dictionary. Then sort the list in\n",
    "reverse order and print out the person who has the most commits.\n",
    "'''\n",
    "class bcolors:\n",
    "    HEADER = '\\033[95m'\n",
    "    OKBLUE = '\\033[94m'\n",
    "    OKGREEN = '\\033[92m'\n",
    "    WARNING = '\\033[93m'\n",
    "    FAIL = '\\033[91m'\n",
    "    ENDC = '\\033[0m'\n",
    "    BOLD = '\\033[1m'\n",
    "    UNDERLINE = '\\033[4m'\n",
    "\n",
    "file = open(\"C:\\\\Users\\\\ashish.sisodia\\\\Desktop\\\\Python\\\\Files\\\\mbox-short.txt\")\n",
    "d = dict()\n",
    "for line in file:\n",
    "    line = line.rstrip()\n",
    "    if line.startswith(\"From \"):\n",
    "        words_list = line.split()\n",
    "        email = words_list[1]\n",
    "        #domain = email.split(\"@\")\n",
    "        #temp = domain[1]\n",
    "        temp = email\n",
    "        d[temp] = d.get(temp,0)+1\n",
    "        \n",
    "lst = list()\n",
    "for key, val in list(d.items()):\n",
    "    lst.append((val, key))\n",
    "    lst.sort(reverse=True)\n",
    "for key, val in lst[:1]:\n",
    "    print(key, val)\n",
    "            \n",
    "lst = list(d.keys())\n",
    "lst.sort()\n",
    "print()\n",
    "for key in lst:\n",
    "    print (bcolors.BOLD,key,bcolors.OKBLUE,d[key],bcolors.ENDC)\n",
    "file.close()"
   ]
  },
  {
   "cell_type": "code",
   "execution_count": null,
   "metadata": {},
   "outputs": [],
   "source": [
    "'''\n",
    "Exercise 2: This program counts the distribution of the hour of the day for each\n",
    "of the messages. You can pull the hour from the “From” line by finding the time\n",
    "string and then splitting that string into parts using the colon character. Once\n",
    "you have accumulated the counts for each hour, print out the counts, one per line,\n",
    "sorted by hour as shown below.\n",
    "Sample Execution:\n",
    "python timeofday.py\n",
    "Enter a file name: mbox-short.txt\n",
    "04 3\n",
    "06 1\n",
    "07 1\n",
    "09 2\n",
    "'''\n",
    "\n",
    "class bcolors:\n",
    "    HEADER = '\\033[95m'\n",
    "    OKBLUE = '\\033[94m'\n",
    "    OKGREEN = '\\033[92m'\n",
    "    OKRED = '\\033[31m'\n",
    "    WARNING = '\\033[93m'\n",
    "    FAIL = '\\033[91m'\n",
    "    ENDC = '\\033[0m'\n",
    "    BOLD = '\\033[1m'\n",
    "    UNDERLINE = '\\033[4m'\n",
    "    \n",
    "\n",
    "file = open(\"C:\\\\Users\\\\ashish.sisodia\\\\Desktop\\\\Python\\\\Files\\\\mbox-short.txt\")\n",
    "d = dict()\n",
    "for line in file:\n",
    "    line = line.rstrip()\n",
    "    if line.startswith(\"From \"):\n",
    "        words_list = line.split()\n",
    "        timestamp = words_list[-2]\n",
    "        time = timestamp.split(':')\n",
    "        hrs = time[0]\n",
    "        #domain = email.split(\"@\")\n",
    "        #temp = domain[1]\n",
    "        temp = hrs\n",
    "        d[temp] = d.get(temp,0)+1\n",
    "        \n",
    "'''lst = list()\n",
    "for key, val in list(d.items()):\n",
    "    lst.append((val, key))\n",
    "    lst.sort(reverse=True)\n",
    "\n",
    "for key, val in lst[:1]:\n",
    "    max_hr = val'''\n",
    "            \n",
    "lst = list(d.keys())\n",
    "lst.sort()\n",
    "lst_val = list(d.values())\n",
    "lst_val.sort(reverse=True)\n",
    "print(lst_val)\n",
    "max_hr = lst_val[0]\n",
    "print('\\033[1;4;94m','Hour','\\tCount',bcolors.ENDC)\n",
    "for key in lst:\n",
    "    if d[key] != max_hr:\n",
    "        print ('\\033[1;94m',key,'\\t ',d[key],bcolors.ENDC)\n",
    "    else:\n",
    "        print ('\\033[42;1m',key,'\\t ',d[key],bcolors.ENDC)\n",
    "file.close()"
   ]
  },
  {
   "cell_type": "code",
   "execution_count": null,
   "metadata": {},
   "outputs": [],
   "source": [
    "'''\n",
    "Exercise 3: Write a program that reads a file and prints the letters in decreasing\n",
    "order of frequency. Your program should convert all the input to lower case and\n",
    "only count the letters a-z. Your program should not count spaces, digits, punctuation,\n",
    "or anything other than the letters a-z. Find text samples from several different\n",
    "languages and see how letter frequency varies between languages. Compare your\n",
    "results with the tables at wikipedia.org/wiki/Letter_frequencies.\n",
    "'''\n",
    "\n",
    "class bcolors:\n",
    "    HEADER = '\\033[95m'\n",
    "    OKBLUE = '\\033[94m'\n",
    "    OKGREEN = '\\033[92m'\n",
    "    OKRED = '\\033[31m'\n",
    "    WARNING = '\\033[93m'\n",
    "    FAIL = '\\033[91m'\n",
    "    ENDC = '\\033[0m'\n",
    "    BOLD = '\\033[1m'\n",
    "    UNDERLINE = '\\033[4m'\n",
    "    \n",
    "\n",
    "import string\n",
    "fhand = open('C:\\\\Users\\\\ashish.sisodia\\\\Desktop\\\\Python\\\\Files\\\\romeo-full.txt')\n",
    "#fhand = open('C:\\\\Users\\\\ashish.sisodia\\\\Desktop\\\\Python\\\\Files\\\\mbox-short.txt')\n",
    "counts = dict()\n",
    "maximum=None\n",
    "for line in fhand:\n",
    "    line = line.translate(str.maketrans('', '', string.punctuation))\n",
    "    line = line.lower()\n",
    "    words = line.split()\n",
    "    for word in words:\n",
    "        counts[word] = counts.get(word,0) + 1\n",
    "# Sort the dictionary by value\n",
    "lst = list()\n",
    "for word, count in list(counts.items()):\n",
    "    lst.append((count, word))\n",
    "    if maximum == None or len(word) > maximum:\n",
    "        maximum = len(word)\n",
    "    lst.sort(reverse=True)\n",
    "num_space = ' ' * maximum\n",
    "print (maximum)\n",
    "print('\\033[1;4m','Word',num_space,bcolors.OKBLUE,'Count',bcolors.ENDC)\n",
    "for count, word in lst[:]:\n",
    "    length = len(word)\n",
    "    num_space = ' ' *(maximum - length  + 7)\n",
    "    print ('\\033[1;94m',word,num_space,count,bcolors.ENDC)\n",
    "    #print(val, key)\n",
    "fhand.close()"
   ]
  },
  {
   "cell_type": "markdown",
   "metadata": {},
   "source": [
    "##### Chapter 11 Regular Expressions (Need more practice)"
   ]
  },
  {
   "cell_type": "code",
   "execution_count": null,
   "metadata": {},
   "outputs": [],
   "source": [
    "# Practice 1\n",
    "# Search for lines that start with From and have an at sign\n",
    "\n",
    "import re\n",
    "hand = open('C:\\\\Users\\\\ashish.sisodia\\\\Desktop\\\\Python\\\\Files\\\\mbox-short.txt')\n",
    "for line in hand:\n",
    "    line = line.rstrip()\n",
    "    if re.search('^From:.+@', line):\n",
    "        print(line)\n",
    "hand.close()"
   ]
  },
  {
   "cell_type": "code",
   "execution_count": null,
   "metadata": {},
   "outputs": [],
   "source": [
    "# Practice 2\n",
    "# Search for lines that start with 'Details: rev='\n",
    "# followed by numbers and '.'\n",
    "# Then print the number if it is greater than zero\n",
    "import re\n",
    "hand = open('C:\\\\Users\\\\ashish.sisodia\\\\Desktop\\\\Python\\\\Files\\\\mbox-short.txt')\n",
    "for line in hand:\n",
    "    line = line.rstrip()\n",
    "    x = re.findall('^Details:.*rev=([0-9.]+)', line)\n",
    "    if len(x) > 0:\n",
    "        print(x)\n",
    "hand.close()"
   ]
  },
  {
   "cell_type": "code",
   "execution_count": null,
   "metadata": {},
   "outputs": [],
   "source": [
    "'''\n",
    "Exercise 1: Write a simple program to simulate the operation of the grep command\n",
    "on Unix. Ask the user to enter a regular expression and count the number\n",
    "of lines that matched the regular expression:\n",
    "$ python grep.py\n",
    "Enter a regular expression: ^Author\n",
    "mbox.txt had 1798 lines that matched ^Author\n",
    "$ python grep.py\n",
    "Enter a regular expression: ^Xmbox.\n",
    "txt had 14368 lines that matched ^X-\n",
    "$ python grep.py\n",
    "Enter a regular expression: java$\n",
    "mbox.txt had 4218 lines that matched java$\n",
    "'''\n",
    "import re\n",
    "exp = input(\"Enter a Regular Expression: \")\n",
    "count = 0\n",
    "fhand = open('C:\\\\Users\\\\ashish.sisodia\\\\Desktop\\\\Python\\\\Files\\\\mbox.txt')\n",
    "for line in fhand:\n",
    "    line = line.rstrip()\n",
    "    if re.search(exp, line):\n",
    "        count +=1\n",
    "print (\"There are %d lines that match with %s in mbox.txt\" %(count, exp[1:]))\n",
    "fhand.close()"
   ]
  },
  {
   "cell_type": "code",
   "execution_count": null,
   "metadata": {},
   "outputs": [],
   "source": [
    "'''\n",
    "Exercise 2: Write a program to look for lines of the form\n",
    "`New Revision: 39772`\n",
    "and extract the number from each of the lines using a regular expression and\n",
    "the findall() method. Compute the average of the numbers and print out the\n",
    "average.\n",
    "'''\n",
    "import re\n",
    "count = 0\n",
    "total = 0.0\n",
    "fhand = open('C:\\\\Users\\\\ashish.sisodia\\\\Desktop\\\\Python\\\\Files\\\\mbox-short.txt')\n",
    "test = []\n",
    "test2 = []\n",
    "for line in fhand:\n",
    "    line = line.rstrip()\n",
    "    #x = re.findall('^[A-Z][A-Za-z].*', line):\n",
    "    #x = re.findall('New Revision.*([0-9][0-9]+)', line)\n",
    "    #x = re.findall('^New Revision: ([0-9.]+)', line)\n",
    "    x = re.findall('^New\\sRevision:\\s([0-9.]+)', line)\n",
    "    if len(x) > 0:\n",
    "        #print(x[0])\n",
    "        #num = int(x[0])\n",
    "        test.append(x)\n",
    "        count += 1\n",
    "        total += int(x[0])\n",
    "avg = total/count\n",
    "print ('Count is %d, \\nTotal is %g \\nAnd average is %g' %(count,total,avg))\n",
    "fhand.close()"
   ]
  },
  {
   "cell_type": "markdown",
   "metadata": {},
   "source": [
    "##### Chapter 12 Networked Programs"
   ]
  },
  {
   "cell_type": "code",
   "execution_count": null,
   "metadata": {},
   "outputs": [],
   "source": [
    "# Practice 1\n",
    "\n",
    "import socket\n",
    "mysock = socket.socket(socket.AF_INET, socket.SOCK_STREAM)\n",
    "mysock.connect(('data.pr4e.org', 80))\n",
    "cmd = 'GET http://data.pr4e.org/romeo.txt HTTP/1.0\\r\\n\\r\\n'.encode()\n",
    "mysock.send(cmd)\n",
    "while True:\n",
    "    data = mysock.recv(20)\n",
    "    if (len(data) < 1):\n",
    "        break\n",
    "    print(data.decode(),end='')\n",
    "mysock.close()"
   ]
  },
  {
   "cell_type": "code",
   "execution_count": null,
   "metadata": {},
   "outputs": [],
   "source": [
    "# Practice 1\n",
    "import socket\n",
    "import time\n",
    "HOST = 'data.pr4e.org'\n",
    "PORT = 80\n",
    "mysock = socket.socket(socket.AF_INET, socket.SOCK_STREAM)\n",
    "mysock.connect((HOST, PORT))\n",
    "mysock.sendall(b'GET http://data.pr4e.org/cover3.jpg HTTP/1.0\\r\\n\\r\\n')\n",
    "count = 0\n",
    "picture = b\"\"\n",
    "while True:\n",
    "    data = mysock.recv(5120)\n",
    "    if (len(data) < 1): break\n",
    "    time.sleep(0.25)\n",
    "    count = count + len(data)\n",
    "    print(len(data), count)\n",
    "    picture = picture + data\n",
    "mysock.close()\n",
    "# Look for the end of the header (2 CRLF)\n",
    "pos = picture.find(b\"\\r\\n\\r\\n\")\n",
    "print('Header length', pos)\n",
    "print(picture[:pos].decode())\n",
    "# Skip past the header and save the picture data\n",
    "picture = picture[pos+4:]\n",
    "fhand = open(\"C:\\\\Users\\\\ashish.sisodia\\\\Desktop\\\\Python\\\\Files\\\\stuff.jpg\", \"wb\")\n",
    "fhand.write(picture)\n",
    "fhand.close()"
   ]
  }
 ],
 "metadata": {
  "kernelspec": {
   "display_name": "Python 3",
   "language": "python",
   "name": "python3"
  },
  "language_info": {
   "codemirror_mode": {
    "name": "ipython",
    "version": 3
   },
   "file_extension": ".py",
   "mimetype": "text/x-python",
   "name": "python",
   "nbconvert_exporter": "python",
   "pygments_lexer": "ipython3",
   "version": "3.6.3"
  }
 },
 "nbformat": 4,
 "nbformat_minor": 2
}
