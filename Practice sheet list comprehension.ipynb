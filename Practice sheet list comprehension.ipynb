{
 "cells": [
  {
   "cell_type": "code",
   "execution_count": 5,
   "metadata": {},
   "outputs": [
    {
     "name": "stdout",
     "output_type": "stream",
     "text": [
      "[6]\n",
      "[4, 16, 36, 64, 100]\n"
     ]
    }
   ],
   "source": [
    "doubles_by_3 = [x * 2 for x in range(1, 6) if (x * 2) % 3 == 0]\n",
    "\n",
    "# Complete the following line. Use the line above for help.\n",
    "even_squares = [x * x for x in range(1,12) if x % 2 == 0]\n",
    "print(doubles_by_3)\n",
    "print (even_squares)"
   ]
  },
  {
   "cell_type": "code",
   "execution_count": 6,
   "metadata": {},
   "outputs": [
    {
     "name": "stdout",
     "output_type": "stream",
     "text": [
      "['D', 'E']\n",
      "['A', 'B']\n",
      "['A', 'C', 'E']\n",
      "['A', 'B', 'C', 'D', 'E']\n"
     ]
    }
   ],
   "source": [
    "to_five = ['A', 'B', 'C', 'D', 'E']\n",
    "\n",
    "print (to_five[3:])\n",
    "# prints ['D', 'E'] \n",
    "\n",
    "print (to_five[:2])\n",
    "# prints ['A', 'B']\n",
    "\n",
    "print (to_five[::2])\n",
    "# print ['A', 'C', 'E']\n",
    "print (to_five)"
   ]
  },
  {
   "cell_type": "code",
   "execution_count": 13,
   "metadata": {},
   "outputs": [
    {
     "name": "stdout",
     "output_type": "stream",
     "text": [
      "[0, 10, 20, 30, 40, 50, 60, 70, 80, 90, 100]\n",
      "[100, 90, 80, 70, 60, 50, 40, 30, 20, 10, 0]\n"
     ]
    }
   ],
   "source": [
    "to_one_hundred = [x for x in range(101)]\n",
    "# Add your code below!\n",
    "backwards_by_tens = to_one_hundred[::-10]\n",
    "print (to_one_hundred[::10])\n",
    "print (backwards_by_tens)"
   ]
  },
  {
   "cell_type": "code",
   "execution_count": 16,
   "metadata": {},
   "outputs": [
    {
     "name": "stdout",
     "output_type": "stream",
     "text": [
      "['Python']\n"
     ]
    }
   ],
   "source": [
    "languages = [\"HTML\", \"JavaScript\", \"Python\", \"Ruby\"]\n",
    "\n",
    "# Add arguments to the filter()\n",
    "lang =  list(filter(lambda x: x == \"Python\", languages))\n",
    "print(lang)"
   ]
  },
  {
   "cell_type": "code",
   "execution_count": 19,
   "metadata": {},
   "outputs": [
    {
     "name": "stdout",
     "output_type": "stream",
     "text": [
      "[36, 49, 64]\n"
     ]
    }
   ],
   "source": [
    "squares = [x ** 2 for x in range(1,11)]\n",
    "print (list(filter(lambda x: x >= 30 and x <= 70, squares)))"
   ]
  },
  {
   "cell_type": "code",
   "execution_count": 30,
   "metadata": {},
   "outputs": [
    {
     "name": "stdout",
     "output_type": "stream",
     "text": [
      "dict_items([('Monty Python and the Holy Grail', 'Great'), (\"Monty Python's Life of Brian\", 'Good'), (\"Monty Python's Meaning of Life\", 'Okay')])\n",
      "Monty Python and the Holy Grail Great\n",
      "Monty Python's Life of Brian Good\n",
      "Monty Python's Meaning of Life Okay\n"
     ]
    }
   ],
   "source": [
    "movies = {\n",
    "  \"Monty Python and the Holy Grail\": \"Great\",\n",
    "  \"Monty Python's Life of Brian\": \"Good\",\n",
    "  \"Monty Python's Meaning of Life\": \"Okay\"\n",
    "}\n",
    "print (movies.items())\n",
    "for key,value in movies.items():\n",
    "    print (key,value)"
   ]
  },
  {
   "cell_type": "code",
   "execution_count": 31,
   "metadata": {},
   "outputs": [
    {
     "name": "stdout",
     "output_type": "stream",
     "text": [
      "[3, 5, 6, 9, 10, 12, 15]\n"
     ]
    }
   ],
   "source": [
    "threes_and_fives = [x for x in range(1,16) if x % 3 == 0 or x % 5 == 0]\n",
    "print(threes_and_fives)"
   ]
  },
  {
   "cell_type": "code",
   "execution_count": 32,
   "metadata": {},
   "outputs": [
    {
     "name": "stdout",
     "output_type": "stream",
     "text": [
      "I am the secret message!\n"
     ]
    }
   ],
   "source": [
    "garbled = \"!XeXgXaXsXsXeXmX XtXeXrXcXeXsX XeXhXtX XmXaX XI\"\n",
    "message = garbled[::-2]\n",
    "print(message)"
   ]
  },
  {
   "cell_type": "code",
   "execution_count": 43,
   "metadata": {},
   "outputs": [
    {
     "name": "stdout",
     "output_type": "stream",
     "text": [
      "['I', ' ', 'a', 'm', ' ', 'a', 'n', 'o', 't', 'h', 'e', 'r', ' ', 's', 'e', 'c', 'r', 'e', 't', ' ', 'm', 'e', 's', 's', 'a', 'g', 'e', '!']\n",
      "I am another secret message!\n",
      "I am another secret message!\n"
     ]
    }
   ],
   "source": [
    "garbled = \"IXXX aXXmX aXXXnXoXXXXXtXhXeXXXXrX sXXXXeXcXXXrXeXt mXXeXsXXXsXaXXXXXXgXeX!XX\"\n",
    "message = list(filter(lambda x: x != 'X', garbled))\n",
    "print (message)\n",
    "\n",
    "str1 = ''\n",
    "str2 = ''.join(message)\n",
    "print(str2)\n",
    "for i in message:\n",
    "    str1 = str1 + i\n",
    "print (str1)"
   ]
  },
  {
   "cell_type": "code",
   "execution_count": null,
   "metadata": {
    "collapsed": true
   },
   "outputs": [],
   "source": []
  }
 ],
 "metadata": {
  "kernelspec": {
   "display_name": "Python 3",
   "language": "python",
   "name": "python3"
  },
  "language_info": {
   "codemirror_mode": {
    "name": "ipython",
    "version": 3
   },
   "file_extension": ".py",
   "mimetype": "text/x-python",
   "name": "python",
   "nbconvert_exporter": "python",
   "pygments_lexer": "ipython3",
   "version": "3.6.3"
  }
 },
 "nbformat": 4,
 "nbformat_minor": 2
}
