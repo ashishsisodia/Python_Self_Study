{
 "cells": [
  {
   "cell_type": "markdown",
   "metadata": {},
   "source": [
    "##### Chapter 2 Variables, expressions and statements"
   ]
  },
  {
   "cell_type": "code",
   "execution_count": null,
   "metadata": {
    "collapsed": true
   },
   "outputs": [],
   "source": [
    "#Exercise 2\n",
    "name = input(\"Enter your name: \")\n",
    "print (\"Hello\", name)"
   ]
  },
  {
   "cell_type": "code",
   "execution_count": null,
   "metadata": {
    "collapsed": true
   },
   "outputs": [],
   "source": [
    "#Exercise 3\n",
    "hrs = input(\"Enter Hours: \")\n",
    "rate = input(\"Enter Rate: \")\n",
    "pay = float(hrs) * float(rate)\n",
    "print (pay)"
   ]
  },
  {
   "cell_type": "code",
   "execution_count": null,
   "metadata": {
    "collapsed": true
   },
   "outputs": [],
   "source": [
    "#Exercise 4\n",
    "width = 17\n",
    "height = 13.0\n",
    "print(width//2)\n",
    "print(width//2.0)\n",
    "print(width/2)\n",
    "print(width/2.0)\n",
    "print(width%2.0)\n",
    "print(width%2)\n",
    "print(height//2)\n",
    "print(height//2.0)\n",
    "print(height/2)\n",
    "print(height/2.0)\n",
    "print(height%2)\n",
    "print(height%2.0)"
   ]
  },
  {
   "cell_type": "code",
   "execution_count": null,
   "metadata": {
    "collapsed": true
   },
   "outputs": [],
   "source": [
    "#celcius to fahrenheit\n",
    "#Exercise 5\n",
    "temp_c = input(\"Temp in Celsius: \")\n",
    "temp_f = float(temp_c) * 1.8 + 32\n",
    "print (\"Temp in Fahrenheit is\", temp_f)"
   ]
  },
  {
   "cell_type": "markdown",
   "metadata": {},
   "source": [
    "##### Chapter 3 Conditional Execution"
   ]
  },
  {
   "cell_type": "code",
   "execution_count": null,
   "metadata": {
    "collapsed": true
   },
   "outputs": [],
   "source": [
    "#Exercise 1, 2\n",
    "try:\n",
    "    hrs = float(input(\"Enter Hours: \"))\n",
    "    rate = float(input(\"Enter Rate: \"))\n",
    "    if hrs <= 40:\n",
    "        pay = hrs * rate\n",
    "    else:\n",
    "        pay = ((hrs -40) * rate * 1.5) + (40 * rate)\n",
    "    print (pay)\n",
    "except:\n",
    "    print(\"Please enter numeric input\")\n",
    "    "
   ]
  },
  {
   "cell_type": "code",
   "execution_count": null,
   "metadata": {
    "collapsed": true
   },
   "outputs": [],
   "source": [
    "#Exercise 3\n",
    "try:\n",
    "    score = float(input(\"Enter a score between 0.0 and 1.0: \"))\n",
    "    if score > 1.0 or score < 0.0:\n",
    "        print(\"Bad Score\")\n",
    "    elif score >= 0.9:\n",
    "        print(\"A\")\n",
    "    elif score >= 0.8:\n",
    "        print (\"B\")\n",
    "    elif score >= 0.7:\n",
    "        print(\"C\")\n",
    "    elif score >= 0.6:\n",
    "        print(\"D\")\n",
    "    else:\n",
    "        print(\"F\")\n",
    "except:\n",
    "    print(\"Bad Score\")"
   ]
  },
  {
   "cell_type": "markdown",
   "metadata": {},
   "source": [
    "##### Chapter 4 Functions"
   ]
  },
  {
   "cell_type": "code",
   "execution_count": null,
   "metadata": {
    "collapsed": true
   },
   "outputs": [],
   "source": [
    "#Exercise 6\n",
    "def computepay(hours, rate):\n",
    "    if hours > 40:\n",
    "        pay = 40 * rate + (hours - 40) * rate * 1.5\n",
    "    else:\n",
    "        pay = hours * rate\n",
    "    return pay\n",
    "try:\n",
    "    hrs = float(input(\"Enter Hours worked: \"))\n",
    "    rate = float(input(\"Enter Rate: \"))\n",
    "    pay = computepay(hrs, rate)\n",
    "    print (pay)\n",
    "except:\n",
    "    print(\"Enter Numeric Values\")"
   ]
  },
  {
   "cell_type": "code",
   "execution_count": null,
   "metadata": {
    "collapsed": true
   },
   "outputs": [],
   "source": [
    "#Exercise 7\n",
    "def computegrade(score):\n",
    "    if score > 1.0 or score < 0.0:\n",
    "        return(\"Bad Score\")\n",
    "    elif score >= 0.9:\n",
    "        return(\"A\")\n",
    "    elif score >= 0.8:\n",
    "        return (\"B\")\n",
    "    elif score >= 0.7:\n",
    "        return(\"C\")\n",
    "    elif score >= 0.6:\n",
    "        return(\"D\")\n",
    "    else:\n",
    "        return(\"F\")\n",
    "try:\n",
    "    score = float(input(\"Enter a score between 0.0 and 1.0: \"))\n",
    "    grade = computegrade(score)\n",
    "    print(grade)\n",
    "except:\n",
    "    print(\"Bad Score\")"
   ]
  },
  {
   "cell_type": "markdown",
   "metadata": {},
   "source": [
    "##### Chapter 5 Iterations"
   ]
  },
  {
   "cell_type": "code",
   "execution_count": null,
   "metadata": {
    "collapsed": true
   },
   "outputs": [],
   "source": [
    "#Exercise 1\n",
    "num = input(\"Enter a number: \")\n",
    "total = 0.0\n",
    "count = 0\n",
    "avg = 0.0\n",
    "while num != 'done':\n",
    "    try:\n",
    "        num1 = float(num)\n",
    "    except:\n",
    "        print(\"Invalid Input\")\n",
    "        num = input(\"Enter another number or Enter done if finished: \")\n",
    "        continue\n",
    "    total += num1\n",
    "    count += 1\n",
    "    num = input(\"Enter another number or Enter done if finished: \")\n",
    "avg = total / count\n",
    "print(\"Total is\", total, \"\\nCount is\", count, \"\\nAverage is\", avg )\n",
    "    "
   ]
  },
  {
   "cell_type": "code",
   "execution_count": null,
   "metadata": {
    "collapsed": true
   },
   "outputs": [],
   "source": [
    "#Exercise 2\n",
    "num = input(\"Enter a number: \")\n",
    "maximum = 0.0\n",
    "minimum = 0\n",
    "while num != 'done':\n",
    "    try:\n",
    "        num1 = float(num)\n",
    "    except:\n",
    "        print(\"Invalid Input\")\n",
    "        num = input(\"Enter another number or Enter done if finished: \")\n",
    "        continue\n",
    "    if num1 > maximum:\n",
    "        maximum = num1\n",
    "    elif num1 < minimum:\n",
    "        minimum = num1\n",
    "    num = input(\"Enter another number or Enter done if finished: \")\n",
    "print(\"Maximum is\", maximum, \"\\nMinimum is\", minimum)"
   ]
  },
  {
   "cell_type": "markdown",
   "metadata": {},
   "source": [
    "##### Chapter 6 Strings"
   ]
  },
  {
   "cell_type": "code",
   "execution_count": null,
   "metadata": {
    "collapsed": true
   },
   "outputs": [],
   "source": [
    "#Exercise 5\n",
    "str = \"X-DSPAM-Confidence:0.8475\"\n",
    "colpos = str.find(':')\n",
    "num = float(str[colpos + 1:])\n",
    "print (\"The Number in the string is %g\" % num)\n",
    "print (colpos)"
   ]
  },
  {
   "cell_type": "markdown",
   "metadata": {},
   "source": [
    "##### Chapter 7 Files"
   ]
  },
  {
   "cell_type": "code",
   "execution_count": null,
   "metadata": {
    "collapsed": true
   },
   "outputs": [],
   "source": [
    "#Exercise 1\n",
    "file = open(\"mbox-short.txt\")\n",
    "for line in file:\n",
    "    print (line.upper())\n",
    "#print(file)\n",
    "file.close()"
   ]
  },
  {
   "cell_type": "code",
   "execution_count": null,
   "metadata": {},
   "outputs": [],
   "source": [
    "#Exercise 1\n",
    "file = open(\"C:\\\\Users\\\\ashish.sisodia\\\\Desktop\\\\Python\\\\Files\\\\mbox-short.txt\")\n",
    "fileread = file.read()\n",
    "print(fileread.upper())\n",
    "#print(file)\n",
    "file.close()"
   ]
  },
  {
   "cell_type": "code",
   "execution_count": null,
   "metadata": {},
   "outputs": [],
   "source": [
    "#Exercise 1\n",
    "file = open(r\"C:\\Users\\ashish.sisodia\\Desktop\\Python\\Files\\mbox-short.txt\")\n",
    "fileread = file.read()\n",
    "print(fileread.upper())\n",
    "#print(file)\n",
    "file.close()"
   ]
  },
  {
   "cell_type": "code",
   "execution_count": null,
   "metadata": {},
   "outputs": [],
   "source": [
    "#Exercise 2\n",
    "filename = input(\"Enter a Filename: \")\n",
    "while 1:\n",
    "    try:\n",
    "        #print(\"Test\")\n",
    "        file = open(filename)\n",
    "        break\n",
    "    except:\n",
    "        print (\"Not a Valid File name/ File not found\")\n",
    "        filename = input(\"Enter a Filename: \")\n",
    "        \n",
    "'''Not Working\n",
    "        else:\n",
    "            print(\"Exiting Program\")\n",
    "            exit()\n",
    "            \n",
    "'''\n",
    "count = 0\n",
    "avg = 0.0\n",
    "num = 0.0\n",
    "for line in file:\n",
    "    line = line.rstrip()\n",
    "    if line.startswith(\"X-DSPAM-Confidence\"):  \n",
    "        colpos = line.find(':')\n",
    "        #print (colpos)\n",
    "        #print (line)\n",
    "        num += float(line[colpos + 2:])\n",
    "        count += 1\n",
    "       # num = round(num,10)\n",
    "avg = round((num / count),10)\n",
    "print (\"The Total of Confidence is %g, Count is %d, and Average Confidence is %g\" % (num, count, avg))\n",
    "file.close()       \n"
   ]
  },
  {
   "cell_type": "code",
   "execution_count": null,
   "metadata": {},
   "outputs": [],
   "source": []
  },
  {
   "cell_type": "code",
   "execution_count": null,
   "metadata": {
    "collapsed": true
   },
   "outputs": [],
   "source": []
  }
 ],
 "metadata": {
  "kernelspec": {
   "display_name": "Python 3",
   "language": "python",
   "name": "python3"
  },
  "language_info": {
   "codemirror_mode": {
    "name": "ipython",
    "version": 3
   },
   "file_extension": ".py",
   "mimetype": "text/x-python",
   "name": "python",
   "nbconvert_exporter": "python",
   "pygments_lexer": "ipython3",
   "version": "3.6.3"
  }
 },
 "nbformat": 4,
 "nbformat_minor": 2
}
