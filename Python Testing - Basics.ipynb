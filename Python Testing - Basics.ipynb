{
 "cells": [
  {
   "cell_type": "code",
   "execution_count": 2,
   "metadata": {},
   "outputs": [
    {
     "name": "stdout",
     "output_type": "stream",
     "text": [
      "3\n"
     ]
    }
   ],
   "source": [
    "x = -3\n",
    "print (x * -1)\n",
    "#print (y)"
   ]
  },
  {
   "cell_type": "code",
   "execution_count": 29,
   "metadata": {},
   "outputs": [],
   "source": [
    "for i in range(2,2):\n",
    "    print (i)"
   ]
  },
  {
   "cell_type": "code",
   "execution_count": 28,
   "metadata": {},
   "outputs": [
    {
     "data": {
      "text/plain": [
       "0"
      ]
     },
     "execution_count": 28,
     "metadata": {},
     "output_type": "execute_result"
    }
   ],
   "source": [
    "0 % 2"
   ]
  },
  {
   "cell_type": "code",
   "execution_count": 17,
   "metadata": {},
   "outputs": [
    {
     "name": "stdout",
     "output_type": "stream",
     "text": [
      "2\n",
      "0\n",
      "3\n",
      "1\n"
     ]
    }
   ],
   "source": [
    "x = 4\n",
    "for i in range(2,x):\n",
    "    print (i)\n",
    "    print (int(x % i))"
   ]
  },
  {
   "cell_type": "code",
   "execution_count": 24,
   "metadata": {},
   "outputs": [
    {
     "name": "stdout",
     "output_type": "stream",
     "text": [
      "True\n"
     ]
    }
   ],
   "source": [
    "def is_prime(x):\n",
    "    n = 2\n",
    "    while n < x:\n",
    "        if int(x % n) == 0:\n",
    "            return False\n",
    "        n += 1    #break\n",
    "    else:\n",
    "        return True\n",
    "print (is_prime(0))"
   ]
  },
  {
   "cell_type": "code",
   "execution_count": 31,
   "metadata": {},
   "outputs": [
    {
     "name": "stdout",
     "output_type": "stream",
     "text": [
      "hsihsa\n"
     ]
    }
   ],
   "source": [
    "x = 'ashish'\n",
    "print(x[::-1])"
   ]
  },
  {
   "cell_type": "code",
   "execution_count": 32,
   "metadata": {},
   "outputs": [
    {
     "data": {
      "text/plain": [
       "6"
      ]
     },
     "execution_count": 32,
     "metadata": {},
     "output_type": "execute_result"
    }
   ],
   "source": [
    "len('ashish')"
   ]
  },
  {
   "cell_type": "code",
   "execution_count": 45,
   "metadata": {},
   "outputs": [
    {
     "name": "stdout",
     "output_type": "stream",
     "text": [
      "5\n",
      "hsh\n"
     ]
    }
   ],
   "source": [
    "word = 'ashish'\n",
    "x = ''\n",
    "print (len(word) - 1)\n",
    "x = word[5]\n",
    "x = x + word[4]\n",
    "x = x + word[2]\n",
    "print (x)"
   ]
  },
  {
   "cell_type": "code",
   "execution_count": 53,
   "metadata": {},
   "outputs": [
    {
     "name": "stdout",
     "output_type": "stream",
     "text": [
      "hsihsa\n"
     ]
    }
   ],
   "source": [
    "def reverse(word):\n",
    "    length = len(word) - 1\n",
    "    #print (length)\n",
    "    rev_word = ''\n",
    "    while length >= 0:\n",
    "        rev_word = rev_word + word[length]\n",
    "        #print (rev_word)\n",
    "        length = length - 1\n",
    "    return rev_word\n",
    "\n",
    "print (reverse('ashish'))"
   ]
  },
  {
   "cell_type": "code",
   "execution_count": 57,
   "metadata": {},
   "outputs": [
    {
     "name": "stdout",
     "output_type": "stream",
     "text": [
      "My Fnctn\n"
     ]
    }
   ],
   "source": [
    "def anti_vowel(text):\n",
    "    new_text = ''\n",
    "    for i in text:\n",
    "        if i == 'A' or i == 'a' or i == 'E' or i == 'e' or i == 'I' or i == 'i' or i == 'O' or i == 'o' or i == 'U' or i == 'u':\n",
    "            new_text = new_text\n",
    "        else:\n",
    "            new_text = new_text + i\n",
    "    return new_text\n",
    "print (anti_vowel(\"My Function\"))"
   ]
  },
  {
   "cell_type": "code",
   "execution_count": 60,
   "metadata": {},
   "outputs": [
    {
     "name": "stdout",
     "output_type": "stream",
     "text": [
      "ashish\n",
      "AshIsh\n"
     ]
    }
   ],
   "source": [
    "word = 'AshIsh'\n",
    "print(word.lower())\n",
    "print (word)"
   ]
  },
  {
   "cell_type": "code",
   "execution_count": 62,
   "metadata": {},
   "outputs": [
    {
     "name": "stdout",
     "output_type": "stream",
     "text": [
      "1\n"
     ]
    }
   ],
   "source": [
    "score = {\"a\": 1, \"c\": 3, \"b\": 3, \"e\": 1, \"d\": 2, \"g\": 2, \n",
    "         \"f\": 4, \"i\": 1, \"h\": 4, \"k\": 5, \"j\": 8, \"m\": 3, \n",
    "         \"l\": 1, \"o\": 1, \"n\": 1, \"q\": 10, \"p\": 3, \"s\": 1, \n",
    "         \"r\": 1, \"u\": 1, \"t\": 1, \"w\": 4, \"v\": 4, \"y\": 4, \n",
    "         \"x\": 8, \"z\": 10}\n",
    "print(score[\"a\"])"
   ]
  },
  {
   "cell_type": "code",
   "execution_count": 65,
   "metadata": {},
   "outputs": [
    {
     "name": "stdout",
     "output_type": "stream",
     "text": [
      "13\n"
     ]
    }
   ],
   "source": [
    "score = {\"a\": 1, \"c\": 3, \"b\": 3, \"e\": 1, \"d\": 2, \"g\": 2, \n",
    "         \"f\": 4, \"i\": 1, \"h\": 4, \"k\": 5, \"j\": 8, \"m\": 3, \n",
    "         \"l\": 1, \"o\": 1, \"n\": 1, \"q\": 10, \"p\": 3, \"s\": 1, \n",
    "         \"r\": 1, \"u\": 1, \"t\": 1, \"w\": 4, \"v\": 4, \"y\": 4, \n",
    "         \"x\": 8, \"z\": 10}\n",
    "\n",
    "def scrabble_score(word):\n",
    "    sum_score = 0\n",
    "    lower_word = word.lower()\n",
    "    for i in lower_word:\n",
    "        sum_score += score[i]\n",
    "    return sum_score\n",
    "print (scrabble_score(\"fcuk\"))"
   ]
  },
  {
   "cell_type": "code",
   "execution_count": 71,
   "metadata": {},
   "outputs": [
    {
     "name": "stdout",
     "output_type": "stream",
     "text": [
      "test string\n",
      "test string\n"
     ]
    }
   ],
   "source": [
    "x = \"test string\"\n",
    "x.split()\n",
    "print (x)\n",
    "print (\" \".join(y))"
   ]
  },
  {
   "cell_type": "code",
   "execution_count": 82,
   "metadata": {},
   "outputs": [
    {
     "name": "stdout",
     "output_type": "stream",
     "text": [
      "*** *** ***\n"
     ]
    }
   ],
   "source": [
    "def censor(text, word):\n",
    "    text_array = text.split()\n",
    "    for i in text_array:\n",
    "        if i == word:\n",
    "            indx = text_array.index(i)\n",
    "            text_array[indx] = \"*\" * len(word)            \n",
    "    print(\" \".join(text_array))\n",
    "censor(\"hey hey hey\", \"hey\")"
   ]
  },
  {
   "cell_type": "code",
   "execution_count": 83,
   "metadata": {},
   "outputs": [
    {
     "name": "stdout",
     "output_type": "stream",
     "text": [
      "5\n"
     ]
    }
   ],
   "source": [
    "list1 = [1,2,3,4,5]\n",
    "print (len(list1))"
   ]
  },
  {
   "cell_type": "code",
   "execution_count": 96,
   "metadata": {},
   "outputs": [
    {
     "name": "stdout",
     "output_type": "stream",
     "text": [
      "Enter a Sequence: 1,2,3,4,3\n",
      "Enter the item to be searched: 3\n",
      "2\n"
     ]
    }
   ],
   "source": [
    "def count(sequence, item):\n",
    "    counter = 0\n",
    "    for i in sequence:\n",
    "        if i == item:\n",
    "            counter += 1\n",
    "    return counter\n",
    "seq = input(\"Enter a Sequence: \")\n",
    "itm = input(\"Enter the item to be searched: \")\n",
    "print (count(seq, itm))"
   ]
  },
  {
   "cell_type": "code",
   "execution_count": 94,
   "metadata": {},
   "outputs": [
    {
     "name": "stdout",
     "output_type": "stream",
     "text": [
      "[2, 4]\n"
     ]
    }
   ],
   "source": [
    "def purify(list_num):\n",
    "    list_num_pur = []\n",
    "    for i in list_num:\n",
    "        if i % 2 == 0:\n",
    "            list_num_pur.append(i)\n",
    "    return list_num_pur\n",
    "list_num = [1,2,3,4,5]\n",
    "print (purify(list_num))"
   ]
  },
  {
   "cell_type": "code",
   "execution_count": 106,
   "metadata": {},
   "outputs": [
    {
     "name": "stdout",
     "output_type": "stream",
     "text": [
      "720\n"
     ]
    }
   ],
   "source": [
    "def product(list_int):\n",
    "    prod = 1\n",
    "    for i in list_int:\n",
    "        prod *= i\n",
    "    return prod\n",
    "list_int = [1,2,3,4,5,6]\n",
    "print (product(list_int))"
   ]
  },
  {
   "cell_type": "code",
   "execution_count": 99,
   "metadata": {},
   "outputs": [
    {
     "name": "stdout",
     "output_type": "stream",
     "text": [
      "[4, 5]\n"
     ]
    }
   ],
   "source": [
    "def remove_duplicates(list_itm):\n",
    "    new_list = []\n",
    "    for i in list_itm:\n",
    "        if i not in new_list:\n",
    "            new_list.append(i)\n",
    "    return new_list\n",
    "#list_itm = [11,12,11,13,11,12,14,14,13,15]\n",
    "list_itm = [4,5,5,4]\n",
    "print (remove_duplicates(list_itm))"
   ]
  },
  {
   "cell_type": "code",
   "execution_count": 107,
   "metadata": {},
   "outputs": [
    {
     "name": "stdout",
     "output_type": "stream",
     "text": [
      "3\n"
     ]
    }
   ],
   "source": [
    "print (int(6 / 2))"
   ]
  },
  {
   "cell_type": "code",
   "execution_count": 118,
   "metadata": {},
   "outputs": [
    {
     "name": "stdout",
     "output_type": "stream",
     "text": [
      "[4, 4, 5, 5]\n",
      "4.5\n"
     ]
    }
   ],
   "source": [
    "def median(list_int):\n",
    "    sorted_list = sorted(list_int)\n",
    "    print (sorted_list)\n",
    "    list_length = int(len(sorted_list))\n",
    "    median_length = int(len(sorted_list) / 2)\n",
    "    if list_length % 2 != 0:\n",
    "        return sorted_list[median_length]\n",
    "    else:\n",
    "        return (sorted_list[median_length] + sorted_list[median_length - 1]) / 2\n",
    "list_int = [4,5,5,4]\n",
    "print(median(list_int))\n"
   ]
  },
  {
   "cell_type": "code",
   "execution_count": null,
   "metadata": {
    "collapsed": true
   },
   "outputs": [],
   "source": []
  }
 ],
 "metadata": {
  "kernelspec": {
   "display_name": "Python 3",
   "language": "python",
   "name": "python3"
  },
  "language_info": {
   "codemirror_mode": {
    "name": "ipython",
    "version": 3
   },
   "file_extension": ".py",
   "mimetype": "text/x-python",
   "name": "python",
   "nbconvert_exporter": "python",
   "pygments_lexer": "ipython3",
   "version": "3.6.3"
  }
 },
 "nbformat": 4,
 "nbformat_minor": 2
}
